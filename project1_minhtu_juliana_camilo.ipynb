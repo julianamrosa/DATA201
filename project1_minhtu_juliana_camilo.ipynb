{
 "cells": [
  {
   "cell_type": "markdown",
   "metadata": {},
   "source": [
    "# Project 1\n",
    "\n",
    "Minh Tu Bui, Juliana Rosa, Camilo Velez\n",
    "\n",
    "# <center> <span style=\"color:#fc031c\"> Empirical Analyisis of Crime in Montgomery County </center> </span>"
   ]
  },
  {
   "cell_type": "markdown",
   "metadata": {
    "id": "IJq4kjCU4Arp"
   },
   "source": [
    "# Introduction\n",
    "\n",
    "There are few opportunites to study crime in what economists call \"natural experiments\". Since *more crime* is not considered a positive outcome in a city, it would not be possible to perform studies -as it is possible in other fields- where one could control certain variables, given that the possible outcome of more crime would probably hurt people. For example, how can we agree on sending 2000 extra police officers for a year to a county to see if increased police is actually beneficial for a reduction in crime?\n",
    "\n",
    "However, during the quarantine in 2020 due to COVID-19, the opportunities were such for one of this natural experiments. We predict that many studies observing how crime statistics changed during these months will come in the next years.\n",
    "\n",
    "In this project, we study the crime data for Montgomery County that it is available at Montomgery County Open Data Portal. The data is provided by the Montgomery Police Department. According to the description of the dataset: \n",
    "*The data presented is derived from reported crimes classified according to the National Incident-Based Reporting System (NIBRS) of the Criminal Justice Information Services (CJIS) Division Uniform Crime Reporting (UCR) Program and documented by approved police incident reports.*"
   ]
  },
  {
   "cell_type": "markdown",
   "metadata": {
    "id": "_y9ZMkYj4alx"
   },
   "source": [
    "[Link to data](https://data.montgomerycountymd.gov/Public-Safety/Crime/icn6-v9z3)"
   ]
  },
  {
   "cell_type": "markdown",
   "metadata": {
    "id": "P0ZjgpHcBMO6"
   },
   "source": [
    "## Questions we are interested in:\n",
    "\n",
    "* Which crimes usually have more than 1 victim? \n",
    "\n",
    "* How does the distribution of crime frequencies look like over the years and months? \n",
    "\n",
    "* Which months usually have a higher crime frequency?\n",
    "\n",
    "* What were the changes in crime reports from 2019 to 2020? \n",
    "\n",
    "* How do crimes change from one police district to another over time? \n",
    "\n",
    "* What are the most common types of crimes? Does that change over the years? Does it relate do the police district? \n",
    "\n",
    "* Which cities have a higher crime rate? \n",
    "\n",
    "* How does crime frequency change throughout the day? \n",
    "\n",
    "* What would be a good estimate for the median of the hour when the crime started? How about the median of the distance between the police station and the crime location?"
   ]
  },
  {
   "cell_type": "markdown",
   "metadata": {
    "id": "cu44sWitC4Sa"
   },
   "source": [
    "## Importing libraries"
   ]
  },
  {
   "cell_type": "code",
   "execution_count": 1,
   "metadata": {
    "id": "ZUe4bRMN4evW"
   },
   "outputs": [],
   "source": [
    "import pandas as pd\n",
    "import matplotlib.pyplot as plt\n",
    "import seaborn as sns\n",
    "import numpy as np\n",
    "import matplotlib as mpl"
   ]
  },
  {
   "cell_type": "code",
   "execution_count": 2,
   "metadata": {},
   "outputs": [
    {
     "name": "stdout",
     "output_type": "stream",
     "text": [
      "Requirement already satisfied: vincenty in c:\\users\\tu\\anaconda3\\lib\\site-packages (0.1.4)\n"
     ]
    }
   ],
   "source": [
    "!pip install vincenty\n",
    "from vincenty import vincenty"
   ]
  },
  {
   "cell_type": "markdown",
   "metadata": {
    "id": "aIDpzykO4SHD"
   },
   "source": [
    "### Reading the csv file"
   ]
  },
  {
   "cell_type": "code",
   "execution_count": 3,
   "metadata": {
    "colab": {
     "base_uri": "https://localhost:8080/"
    },
    "id": "F-CQWvo04BSN",
    "outputId": "1e1bf507-1b19-40dd-9cdb-2636f45a50c1"
   },
   "outputs": [
    {
     "name": "stderr",
     "output_type": "stream",
     "text": [
      "C:\\Users\\Tu\\anaconda3\\lib\\site-packages\\IPython\\core\\interactiveshell.py:3063: DtypeWarning: Columns (1,18) have mixed types.Specify dtype option on import or set low_memory=False.\n",
      "  interactivity=interactivity, compiler=compiler, result=result)\n"
     ]
    }
   ],
   "source": [
    "crime = pd.read_csv(\"Crime.csv\")"
   ]
  },
  {
   "cell_type": "markdown",
   "metadata": {
    "id": "nyaTDlj1XhyL"
   },
   "source": [
    "### Taking a look at the data"
   ]
  },
  {
   "cell_type": "code",
   "execution_count": 4,
   "metadata": {
    "colab": {
     "base_uri": "https://localhost:8080/"
    },
    "id": "bn9qW1zjDsVU",
    "outputId": "77f2c98c-68e7-4953-e298-51df8b0159f3"
   },
   "outputs": [
    {
     "name": "stdout",
     "output_type": "stream",
     "text": [
      "<class 'pandas.core.frame.DataFrame'>\n",
      "RangeIndex: 225690 entries, 0 to 225689\n",
      "Data columns (total 30 columns):\n",
      " #   Column                  Non-Null Count   Dtype  \n",
      "---  ------                  --------------   -----  \n",
      " 0   Incident ID             225690 non-null  int64  \n",
      " 1   Offence Code            225690 non-null  object \n",
      " 2   CR Number               225690 non-null  int64  \n",
      " 3   Dispatch Date / Time    156890 non-null  object \n",
      " 4   NIBRS Code              225690 non-null  object \n",
      " 5   Victims                 225690 non-null  int64  \n",
      " 6   Crime Name1             225549 non-null  object \n",
      " 7   Crime Name2             225549 non-null  object \n",
      " 8   Crime Name3             225549 non-null  object \n",
      " 9   Police District Name    225690 non-null  object \n",
      " 10  Block Address           205188 non-null  object \n",
      " 11  City                    224633 non-null  object \n",
      " 12  State                   225690 non-null  object \n",
      " 13  Zip Code                222503 non-null  float64\n",
      " 14  Agency                  225690 non-null  object \n",
      " 15  Place                   225690 non-null  object \n",
      " 16  Sector                  225631 non-null  object \n",
      " 17  Beat                    225631 non-null  object \n",
      " 18  PRA                     225649 non-null  object \n",
      " 19  Address Number          205262 non-null  float64\n",
      " 20  Street Prefix           9949 non-null    object \n",
      " 21  Street Name             225690 non-null  object \n",
      " 22  Street Suffix           4243 non-null    object \n",
      " 23  Street Type             225376 non-null  object \n",
      " 24  Start_Date_Time         225690 non-null  object \n",
      " 25  End_Date_Time           109038 non-null  object \n",
      " 26  Latitude                225690 non-null  float64\n",
      " 27  Longitude               225690 non-null  float64\n",
      " 28  Police District Number  225690 non-null  object \n",
      " 29  Location                225690 non-null  object \n",
      "dtypes: float64(4), int64(3), object(23)\n",
      "memory usage: 51.7+ MB\n"
     ]
    }
   ],
   "source": [
    "#Number of rows and columns; column names and types\n",
    "crime.info()"
   ]
  },
  {
   "cell_type": "code",
   "execution_count": 5,
   "metadata": {
    "colab": {
     "base_uri": "https://localhost:8080/",
     "height": 462
    },
    "id": "l7UYFlEY569R",
    "outputId": "2195314b-8a4a-44d6-9c5c-cea14876e0b0"
   },
   "outputs": [
    {
     "data": {
      "text/html": [
       "<div>\n",
       "<style scoped>\n",
       "    .dataframe tbody tr th:only-of-type {\n",
       "        vertical-align: middle;\n",
       "    }\n",
       "\n",
       "    .dataframe tbody tr th {\n",
       "        vertical-align: top;\n",
       "    }\n",
       "\n",
       "    .dataframe thead th {\n",
       "        text-align: right;\n",
       "    }\n",
       "</style>\n",
       "<table border=\"1\" class=\"dataframe\">\n",
       "  <thead>\n",
       "    <tr style=\"text-align: right;\">\n",
       "      <th></th>\n",
       "      <th>Incident ID</th>\n",
       "      <th>Offence Code</th>\n",
       "      <th>CR Number</th>\n",
       "      <th>Dispatch Date / Time</th>\n",
       "      <th>NIBRS Code</th>\n",
       "      <th>Victims</th>\n",
       "      <th>Crime Name1</th>\n",
       "      <th>Crime Name2</th>\n",
       "      <th>Crime Name3</th>\n",
       "      <th>Police District Name</th>\n",
       "      <th>...</th>\n",
       "      <th>Street Prefix</th>\n",
       "      <th>Street Name</th>\n",
       "      <th>Street Suffix</th>\n",
       "      <th>Street Type</th>\n",
       "      <th>Start_Date_Time</th>\n",
       "      <th>End_Date_Time</th>\n",
       "      <th>Latitude</th>\n",
       "      <th>Longitude</th>\n",
       "      <th>Police District Number</th>\n",
       "      <th>Location</th>\n",
       "    </tr>\n",
       "  </thead>\n",
       "  <tbody>\n",
       "    <tr>\n",
       "      <th>0</th>\n",
       "      <td>201087097</td>\n",
       "      <td>5707</td>\n",
       "      <td>16033232</td>\n",
       "      <td>NaN</td>\n",
       "      <td>90J</td>\n",
       "      <td>1</td>\n",
       "      <td>Crime Against Society</td>\n",
       "      <td>Trespass of Real Property</td>\n",
       "      <td>TRESPASSING</td>\n",
       "      <td>WHEATON</td>\n",
       "      <td>...</td>\n",
       "      <td>NaN</td>\n",
       "      <td>CONNECTICUT</td>\n",
       "      <td>NaN</td>\n",
       "      <td>AVE</td>\n",
       "      <td>07/01/2016 12:04:00 AM</td>\n",
       "      <td>NaN</td>\n",
       "      <td>39.078911</td>\n",
       "      <td>-77.080827</td>\n",
       "      <td>4D</td>\n",
       "      <td>(39.0789, -77.0808)</td>\n",
       "    </tr>\n",
       "    <tr>\n",
       "      <th>1</th>\n",
       "      <td>201215730</td>\n",
       "      <td>5311</td>\n",
       "      <td>180058531</td>\n",
       "      <td>11/22/2018 04:58:01 AM</td>\n",
       "      <td>90C</td>\n",
       "      <td>1</td>\n",
       "      <td>Crime Against Society</td>\n",
       "      <td>Disorderly Conduct</td>\n",
       "      <td>PUBLIC PEACE - DISORDERLY CONDUCT</td>\n",
       "      <td>CITY OF TAKOMA PARK</td>\n",
       "      <td>...</td>\n",
       "      <td>NaN</td>\n",
       "      <td>NEW HAMPSHIRE</td>\n",
       "      <td>NaN</td>\n",
       "      <td>AVE</td>\n",
       "      <td>11/22/2018 04:58:00 AM</td>\n",
       "      <td>11/22/2018 10:00:00 AM</td>\n",
       "      <td>38.973022</td>\n",
       "      <td>-76.996799</td>\n",
       "      <td>8D</td>\n",
       "      <td>(38.973, -76.9968)</td>\n",
       "    </tr>\n",
       "    <tr>\n",
       "      <th>2</th>\n",
       "      <td>201229073</td>\n",
       "      <td>3562</td>\n",
       "      <td>190009928</td>\n",
       "      <td>03/03/2019 04:59:49 AM</td>\n",
       "      <td>35A</td>\n",
       "      <td>1</td>\n",
       "      <td>Crime Against Society</td>\n",
       "      <td>Drug/Narcotic Violations</td>\n",
       "      <td>DRUGS - MARIJUANA - POSSESS</td>\n",
       "      <td>BETHESDA</td>\n",
       "      <td>...</td>\n",
       "      <td>NaN</td>\n",
       "      <td>OVERLEA</td>\n",
       "      <td>NaN</td>\n",
       "      <td>RD</td>\n",
       "      <td>03/03/2019 04:52:00 AM</td>\n",
       "      <td>03/03/2019 04:57:00 AM</td>\n",
       "      <td>38.956840</td>\n",
       "      <td>-77.111362</td>\n",
       "      <td>2D</td>\n",
       "      <td>(38.9568, -77.1114)</td>\n",
       "    </tr>\n",
       "    <tr>\n",
       "      <th>3</th>\n",
       "      <td>201233523</td>\n",
       "      <td>1114</td>\n",
       "      <td>190015440</td>\n",
       "      <td>04/03/2019 11:53:15 AM</td>\n",
       "      <td>11B</td>\n",
       "      <td>1</td>\n",
       "      <td>Crime Against Person</td>\n",
       "      <td>Forcible Sodomy</td>\n",
       "      <td>SEX ASSAULT - SODOMY-GIRL-STRONG-ARM</td>\n",
       "      <td>SILVER SPRING</td>\n",
       "      <td>...</td>\n",
       "      <td>NaN</td>\n",
       "      <td>UNIVERSITY</td>\n",
       "      <td>E</td>\n",
       "      <td>BLV</td>\n",
       "      <td>04/02/2019 11:00:00 AM</td>\n",
       "      <td>04/02/2019 12:00:00 PM</td>\n",
       "      <td>39.020392</td>\n",
       "      <td>-77.012776</td>\n",
       "      <td>3D</td>\n",
       "      <td>(39.0204, -77.0128)</td>\n",
       "    </tr>\n",
       "    <tr>\n",
       "      <th>4</th>\n",
       "      <td>201276479</td>\n",
       "      <td>1213</td>\n",
       "      <td>200005863</td>\n",
       "      <td>02/04/2020 07:11:25 PM</td>\n",
       "      <td>120</td>\n",
       "      <td>1</td>\n",
       "      <td>Crime Against Property</td>\n",
       "      <td>Robbery</td>\n",
       "      <td>ROBBERY - GUN</td>\n",
       "      <td>MONTGOMERY VILLAGE</td>\n",
       "      <td>...</td>\n",
       "      <td>NaN</td>\n",
       "      <td>DARNESTOWN</td>\n",
       "      <td>NaN</td>\n",
       "      <td>RD</td>\n",
       "      <td>02/04/2020 07:05:00 PM</td>\n",
       "      <td>02/04/2020 07:10:00 PM</td>\n",
       "      <td>39.116987</td>\n",
       "      <td>-77.249952</td>\n",
       "      <td>6D</td>\n",
       "      <td>(39.117, -77.25)</td>\n",
       "    </tr>\n",
       "  </tbody>\n",
       "</table>\n",
       "<p>5 rows × 30 columns</p>\n",
       "</div>"
      ],
      "text/plain": [
       "   Incident ID Offence Code  CR Number    Dispatch Date / Time NIBRS Code  \\\n",
       "0    201087097         5707   16033232                     NaN        90J   \n",
       "1    201215730         5311  180058531  11/22/2018 04:58:01 AM        90C   \n",
       "2    201229073         3562  190009928  03/03/2019 04:59:49 AM        35A   \n",
       "3    201233523         1114  190015440  04/03/2019 11:53:15 AM        11B   \n",
       "4    201276479         1213  200005863  02/04/2020 07:11:25 PM        120   \n",
       "\n",
       "   Victims             Crime Name1                Crime Name2  \\\n",
       "0        1   Crime Against Society  Trespass of Real Property   \n",
       "1        1   Crime Against Society         Disorderly Conduct   \n",
       "2        1   Crime Against Society   Drug/Narcotic Violations   \n",
       "3        1    Crime Against Person            Forcible Sodomy   \n",
       "4        1  Crime Against Property                    Robbery   \n",
       "\n",
       "                            Crime Name3 Police District Name  ...  \\\n",
       "0                           TRESPASSING              WHEATON  ...   \n",
       "1     PUBLIC PEACE - DISORDERLY CONDUCT  CITY OF TAKOMA PARK  ...   \n",
       "2           DRUGS - MARIJUANA - POSSESS             BETHESDA  ...   \n",
       "3  SEX ASSAULT - SODOMY-GIRL-STRONG-ARM        SILVER SPRING  ...   \n",
       "4                         ROBBERY - GUN   MONTGOMERY VILLAGE  ...   \n",
       "\n",
       "  Street Prefix    Street Name Street Suffix  Street Type  \\\n",
       "0           NaN    CONNECTICUT           NaN          AVE   \n",
       "1           NaN  NEW HAMPSHIRE           NaN          AVE   \n",
       "2           NaN        OVERLEA           NaN           RD   \n",
       "3           NaN     UNIVERSITY             E          BLV   \n",
       "4           NaN     DARNESTOWN           NaN           RD   \n",
       "\n",
       "          Start_Date_Time           End_Date_Time   Latitude  Longitude  \\\n",
       "0  07/01/2016 12:04:00 AM                     NaN  39.078911 -77.080827   \n",
       "1  11/22/2018 04:58:00 AM  11/22/2018 10:00:00 AM  38.973022 -76.996799   \n",
       "2  03/03/2019 04:52:00 AM  03/03/2019 04:57:00 AM  38.956840 -77.111362   \n",
       "3  04/02/2019 11:00:00 AM  04/02/2019 12:00:00 PM  39.020392 -77.012776   \n",
       "4  02/04/2020 07:05:00 PM  02/04/2020 07:10:00 PM  39.116987 -77.249952   \n",
       "\n",
       "  Police District Number             Location  \n",
       "0                     4D  (39.0789, -77.0808)  \n",
       "1                     8D   (38.973, -76.9968)  \n",
       "2                     2D  (38.9568, -77.1114)  \n",
       "3                     3D  (39.0204, -77.0128)  \n",
       "4                     6D     (39.117, -77.25)  \n",
       "\n",
       "[5 rows x 30 columns]"
      ]
     },
     "execution_count": 5,
     "metadata": {},
     "output_type": "execute_result"
    }
   ],
   "source": [
    "#First four rows\n",
    "crime.head()"
   ]
  },
  {
   "cell_type": "markdown",
   "metadata": {
    "id": "97qCB24hDUvI"
   },
   "source": [
    "# <center> Exploratory Data Analysis </center>"
   ]
  },
  {
   "cell_type": "code",
   "execution_count": 6,
   "metadata": {
    "id": "Jl_luOk5Dez7"
   },
   "outputs": [],
   "source": [
    "df_c = crime.copy()"
   ]
  },
  {
   "cell_type": "code",
   "execution_count": 7,
   "metadata": {
    "colab": {
     "base_uri": "https://localhost:8080/",
     "height": 830
    },
    "id": "Z5pgxvefDsvC",
    "outputId": "8cfdb463-3866-401e-b473-80b997ec3394"
   },
   "outputs": [
    {
     "data": {
      "text/html": [
       "<div>\n",
       "<style scoped>\n",
       "    .dataframe tbody tr th:only-of-type {\n",
       "        vertical-align: middle;\n",
       "    }\n",
       "\n",
       "    .dataframe tbody tr th {\n",
       "        vertical-align: top;\n",
       "    }\n",
       "\n",
       "    .dataframe thead th {\n",
       "        text-align: right;\n",
       "    }\n",
       "</style>\n",
       "<table border=\"1\" class=\"dataframe\">\n",
       "  <thead>\n",
       "    <tr style=\"text-align: right;\">\n",
       "      <th></th>\n",
       "      <th>Incident ID</th>\n",
       "      <th>Offence Code</th>\n",
       "      <th>CR Number</th>\n",
       "      <th>Dispatch Date / Time</th>\n",
       "      <th>NIBRS Code</th>\n",
       "      <th>Victims</th>\n",
       "      <th>Crime Name1</th>\n",
       "      <th>Crime Name2</th>\n",
       "      <th>Crime Name3</th>\n",
       "      <th>Police District Name</th>\n",
       "      <th>...</th>\n",
       "      <th>Street Prefix</th>\n",
       "      <th>Street Name</th>\n",
       "      <th>Street Suffix</th>\n",
       "      <th>Street Type</th>\n",
       "      <th>Start_Date_Time</th>\n",
       "      <th>End_Date_Time</th>\n",
       "      <th>Latitude</th>\n",
       "      <th>Longitude</th>\n",
       "      <th>Police District Number</th>\n",
       "      <th>Location</th>\n",
       "    </tr>\n",
       "  </thead>\n",
       "  <tbody>\n",
       "    <tr>\n",
       "      <th>0</th>\n",
       "      <td>201087097</td>\n",
       "      <td>5707</td>\n",
       "      <td>16033232</td>\n",
       "      <td>NaN</td>\n",
       "      <td>90J</td>\n",
       "      <td>1</td>\n",
       "      <td>Crime Against Society</td>\n",
       "      <td>Trespass of Real Property</td>\n",
       "      <td>TRESPASSING</td>\n",
       "      <td>WHEATON</td>\n",
       "      <td>...</td>\n",
       "      <td>NaN</td>\n",
       "      <td>CONNECTICUT</td>\n",
       "      <td>NaN</td>\n",
       "      <td>AVE</td>\n",
       "      <td>07/01/2016 12:04:00 AM</td>\n",
       "      <td>NaN</td>\n",
       "      <td>39.078911</td>\n",
       "      <td>-77.080827</td>\n",
       "      <td>4D</td>\n",
       "      <td>(39.0789, -77.0808)</td>\n",
       "    </tr>\n",
       "    <tr>\n",
       "      <th>1</th>\n",
       "      <td>201215730</td>\n",
       "      <td>5311</td>\n",
       "      <td>180058531</td>\n",
       "      <td>11/22/2018 04:58:01 AM</td>\n",
       "      <td>90C</td>\n",
       "      <td>1</td>\n",
       "      <td>Crime Against Society</td>\n",
       "      <td>Disorderly Conduct</td>\n",
       "      <td>PUBLIC PEACE - DISORDERLY CONDUCT</td>\n",
       "      <td>CITY OF TAKOMA PARK</td>\n",
       "      <td>...</td>\n",
       "      <td>NaN</td>\n",
       "      <td>NEW HAMPSHIRE</td>\n",
       "      <td>NaN</td>\n",
       "      <td>AVE</td>\n",
       "      <td>11/22/2018 04:58:00 AM</td>\n",
       "      <td>11/22/2018 10:00:00 AM</td>\n",
       "      <td>38.973022</td>\n",
       "      <td>-76.996799</td>\n",
       "      <td>8D</td>\n",
       "      <td>(38.973, -76.9968)</td>\n",
       "    </tr>\n",
       "    <tr>\n",
       "      <th>2</th>\n",
       "      <td>201229073</td>\n",
       "      <td>3562</td>\n",
       "      <td>190009928</td>\n",
       "      <td>03/03/2019 04:59:49 AM</td>\n",
       "      <td>35A</td>\n",
       "      <td>1</td>\n",
       "      <td>Crime Against Society</td>\n",
       "      <td>Drug/Narcotic Violations</td>\n",
       "      <td>DRUGS - MARIJUANA - POSSESS</td>\n",
       "      <td>BETHESDA</td>\n",
       "      <td>...</td>\n",
       "      <td>NaN</td>\n",
       "      <td>OVERLEA</td>\n",
       "      <td>NaN</td>\n",
       "      <td>RD</td>\n",
       "      <td>03/03/2019 04:52:00 AM</td>\n",
       "      <td>03/03/2019 04:57:00 AM</td>\n",
       "      <td>38.956840</td>\n",
       "      <td>-77.111362</td>\n",
       "      <td>2D</td>\n",
       "      <td>(38.9568, -77.1114)</td>\n",
       "    </tr>\n",
       "    <tr>\n",
       "      <th>3</th>\n",
       "      <td>201233523</td>\n",
       "      <td>1114</td>\n",
       "      <td>190015440</td>\n",
       "      <td>04/03/2019 11:53:15 AM</td>\n",
       "      <td>11B</td>\n",
       "      <td>1</td>\n",
       "      <td>Crime Against Person</td>\n",
       "      <td>Forcible Sodomy</td>\n",
       "      <td>SEX ASSAULT - SODOMY-GIRL-STRONG-ARM</td>\n",
       "      <td>SILVER SPRING</td>\n",
       "      <td>...</td>\n",
       "      <td>NaN</td>\n",
       "      <td>UNIVERSITY</td>\n",
       "      <td>E</td>\n",
       "      <td>BLV</td>\n",
       "      <td>04/02/2019 11:00:00 AM</td>\n",
       "      <td>04/02/2019 12:00:00 PM</td>\n",
       "      <td>39.020392</td>\n",
       "      <td>-77.012776</td>\n",
       "      <td>3D</td>\n",
       "      <td>(39.0204, -77.0128)</td>\n",
       "    </tr>\n",
       "    <tr>\n",
       "      <th>4</th>\n",
       "      <td>201276479</td>\n",
       "      <td>1213</td>\n",
       "      <td>200005863</td>\n",
       "      <td>02/04/2020 07:11:25 PM</td>\n",
       "      <td>120</td>\n",
       "      <td>1</td>\n",
       "      <td>Crime Against Property</td>\n",
       "      <td>Robbery</td>\n",
       "      <td>ROBBERY - GUN</td>\n",
       "      <td>MONTGOMERY VILLAGE</td>\n",
       "      <td>...</td>\n",
       "      <td>NaN</td>\n",
       "      <td>DARNESTOWN</td>\n",
       "      <td>NaN</td>\n",
       "      <td>RD</td>\n",
       "      <td>02/04/2020 07:05:00 PM</td>\n",
       "      <td>02/04/2020 07:10:00 PM</td>\n",
       "      <td>39.116987</td>\n",
       "      <td>-77.249952</td>\n",
       "      <td>6D</td>\n",
       "      <td>(39.117, -77.25)</td>\n",
       "    </tr>\n",
       "    <tr>\n",
       "      <th>...</th>\n",
       "      <td>...</td>\n",
       "      <td>...</td>\n",
       "      <td>...</td>\n",
       "      <td>...</td>\n",
       "      <td>...</td>\n",
       "      <td>...</td>\n",
       "      <td>...</td>\n",
       "      <td>...</td>\n",
       "      <td>...</td>\n",
       "      <td>...</td>\n",
       "      <td>...</td>\n",
       "      <td>...</td>\n",
       "      <td>...</td>\n",
       "      <td>...</td>\n",
       "      <td>...</td>\n",
       "      <td>...</td>\n",
       "      <td>...</td>\n",
       "      <td>...</td>\n",
       "      <td>...</td>\n",
       "      <td>...</td>\n",
       "      <td>...</td>\n",
       "    </tr>\n",
       "    <tr>\n",
       "      <th>225685</th>\n",
       "      <td>201246678</td>\n",
       "      <td>5404</td>\n",
       "      <td>190031813</td>\n",
       "      <td>07/04/2019 01:05:53 AM</td>\n",
       "      <td>90D</td>\n",
       "      <td>1</td>\n",
       "      <td>Crime Against Society</td>\n",
       "      <td>Driving Under the Influence</td>\n",
       "      <td>DRIVING UNDER THE INFLUENCE LIQUOR</td>\n",
       "      <td>WHEATON</td>\n",
       "      <td>...</td>\n",
       "      <td>NaN</td>\n",
       "      <td>GEORGIA</td>\n",
       "      <td>NaN</td>\n",
       "      <td>AVE</td>\n",
       "      <td>07/04/2019 01:03:00 AM</td>\n",
       "      <td>07/04/2019 02:28:00 AM</td>\n",
       "      <td>39.058066</td>\n",
       "      <td>-77.050032</td>\n",
       "      <td>4D</td>\n",
       "      <td>(39.0581, -77.05)</td>\n",
       "    </tr>\n",
       "    <tr>\n",
       "      <th>225686</th>\n",
       "      <td>201243750</td>\n",
       "      <td>2203</td>\n",
       "      <td>190028212</td>\n",
       "      <td>06/13/2019 10:33:01 AM</td>\n",
       "      <td>220</td>\n",
       "      <td>1</td>\n",
       "      <td>Crime Against Property</td>\n",
       "      <td>Burglary/Breaking and Entering</td>\n",
       "      <td>BURGLARY - FORCED ENTRY-NONRESIDENTIAL</td>\n",
       "      <td>SILVER SPRING</td>\n",
       "      <td>...</td>\n",
       "      <td>NaN</td>\n",
       "      <td>SLIGO</td>\n",
       "      <td>NaN</td>\n",
       "      <td>AVE</td>\n",
       "      <td>06/13/2019 10:33:00 AM</td>\n",
       "      <td>06/13/2019 11:30:00 AM</td>\n",
       "      <td>38.990216</td>\n",
       "      <td>-77.024017</td>\n",
       "      <td>3D</td>\n",
       "      <td>(38.9902, -77.024)</td>\n",
       "    </tr>\n",
       "    <tr>\n",
       "      <th>225687</th>\n",
       "      <td>201244611</td>\n",
       "      <td>2309</td>\n",
       "      <td>190029400</td>\n",
       "      <td>06/19/2019 08:22:39 PM</td>\n",
       "      <td>23H</td>\n",
       "      <td>1</td>\n",
       "      <td>Crime Against Property</td>\n",
       "      <td>All other Larceny</td>\n",
       "      <td>LARCENY - FROM YARDS</td>\n",
       "      <td>SILVER SPRING</td>\n",
       "      <td>...</td>\n",
       "      <td>NaN</td>\n",
       "      <td>REGALWOOD</td>\n",
       "      <td>NaN</td>\n",
       "      <td>TER</td>\n",
       "      <td>04/19/2019 12:00:00 PM</td>\n",
       "      <td>06/19/2019 08:22:00 PM</td>\n",
       "      <td>39.098924</td>\n",
       "      <td>-76.920850</td>\n",
       "      <td>3D</td>\n",
       "      <td>(39.0989, -76.9208)</td>\n",
       "    </tr>\n",
       "    <tr>\n",
       "      <th>225688</th>\n",
       "      <td>201248696</td>\n",
       "      <td>4104</td>\n",
       "      <td>190034187</td>\n",
       "      <td>07/18/2019 06:48:53 PM</td>\n",
       "      <td>90G</td>\n",
       "      <td>1</td>\n",
       "      <td>Crime Against Society</td>\n",
       "      <td>Liquor Law Violations</td>\n",
       "      <td>LIQUOR - POSSESS</td>\n",
       "      <td>ROCKVILLE</td>\n",
       "      <td>...</td>\n",
       "      <td>NaN</td>\n",
       "      <td>MEADOW HALL</td>\n",
       "      <td>NaN</td>\n",
       "      <td>DR</td>\n",
       "      <td>07/18/2019 06:48:00 PM</td>\n",
       "      <td>NaN</td>\n",
       "      <td>39.075179</td>\n",
       "      <td>-77.112958</td>\n",
       "      <td>1D</td>\n",
       "      <td>(39.0752, -77.113)</td>\n",
       "    </tr>\n",
       "    <tr>\n",
       "      <th>225689</th>\n",
       "      <td>201249682</td>\n",
       "      <td>9105</td>\n",
       "      <td>190035543</td>\n",
       "      <td>07/26/2019 09:41:21 AM</td>\n",
       "      <td>90Z</td>\n",
       "      <td>1</td>\n",
       "      <td>Other</td>\n",
       "      <td>All Other Offenses</td>\n",
       "      <td>LOST PROPERTY</td>\n",
       "      <td>SILVER SPRING</td>\n",
       "      <td>...</td>\n",
       "      <td>NaN</td>\n",
       "      <td>NEW HAMPSHIRE</td>\n",
       "      <td>NaN</td>\n",
       "      <td>AVE</td>\n",
       "      <td>07/26/2019 09:57:00 AM</td>\n",
       "      <td>NaN</td>\n",
       "      <td>39.071451</td>\n",
       "      <td>-77.003225</td>\n",
       "      <td>3D</td>\n",
       "      <td>(39.0715, -77.0032)</td>\n",
       "    </tr>\n",
       "  </tbody>\n",
       "</table>\n",
       "<p>225690 rows × 30 columns</p>\n",
       "</div>"
      ],
      "text/plain": [
       "        Incident ID Offence Code  CR Number    Dispatch Date / Time  \\\n",
       "0         201087097         5707   16033232                     NaN   \n",
       "1         201215730         5311  180058531  11/22/2018 04:58:01 AM   \n",
       "2         201229073         3562  190009928  03/03/2019 04:59:49 AM   \n",
       "3         201233523         1114  190015440  04/03/2019 11:53:15 AM   \n",
       "4         201276479         1213  200005863  02/04/2020 07:11:25 PM   \n",
       "...             ...          ...        ...                     ...   \n",
       "225685    201246678         5404  190031813  07/04/2019 01:05:53 AM   \n",
       "225686    201243750         2203  190028212  06/13/2019 10:33:01 AM   \n",
       "225687    201244611         2309  190029400  06/19/2019 08:22:39 PM   \n",
       "225688    201248696         4104  190034187  07/18/2019 06:48:53 PM   \n",
       "225689    201249682         9105  190035543  07/26/2019 09:41:21 AM   \n",
       "\n",
       "       NIBRS Code  Victims             Crime Name1  \\\n",
       "0             90J        1   Crime Against Society   \n",
       "1             90C        1   Crime Against Society   \n",
       "2             35A        1   Crime Against Society   \n",
       "3             11B        1    Crime Against Person   \n",
       "4             120        1  Crime Against Property   \n",
       "...           ...      ...                     ...   \n",
       "225685        90D        1   Crime Against Society   \n",
       "225686        220        1  Crime Against Property   \n",
       "225687        23H        1  Crime Against Property   \n",
       "225688        90G        1   Crime Against Society   \n",
       "225689        90Z        1                   Other   \n",
       "\n",
       "                           Crime Name2  \\\n",
       "0            Trespass of Real Property   \n",
       "1                   Disorderly Conduct   \n",
       "2             Drug/Narcotic Violations   \n",
       "3                      Forcible Sodomy   \n",
       "4                              Robbery   \n",
       "...                                ...   \n",
       "225685     Driving Under the Influence   \n",
       "225686  Burglary/Breaking and Entering   \n",
       "225687               All other Larceny   \n",
       "225688           Liquor Law Violations   \n",
       "225689              All Other Offenses   \n",
       "\n",
       "                                   Crime Name3 Police District Name  ...  \\\n",
       "0                                  TRESPASSING              WHEATON  ...   \n",
       "1            PUBLIC PEACE - DISORDERLY CONDUCT  CITY OF TAKOMA PARK  ...   \n",
       "2                  DRUGS - MARIJUANA - POSSESS             BETHESDA  ...   \n",
       "3         SEX ASSAULT - SODOMY-GIRL-STRONG-ARM        SILVER SPRING  ...   \n",
       "4                                ROBBERY - GUN   MONTGOMERY VILLAGE  ...   \n",
       "...                                        ...                  ...  ...   \n",
       "225685      DRIVING UNDER THE INFLUENCE LIQUOR              WHEATON  ...   \n",
       "225686  BURGLARY - FORCED ENTRY-NONRESIDENTIAL        SILVER SPRING  ...   \n",
       "225687                    LARCENY - FROM YARDS        SILVER SPRING  ...   \n",
       "225688                        LIQUOR - POSSESS            ROCKVILLE  ...   \n",
       "225689                           LOST PROPERTY        SILVER SPRING  ...   \n",
       "\n",
       "       Street Prefix    Street Name Street Suffix  Street Type  \\\n",
       "0                NaN    CONNECTICUT           NaN          AVE   \n",
       "1                NaN  NEW HAMPSHIRE           NaN          AVE   \n",
       "2                NaN        OVERLEA           NaN           RD   \n",
       "3                NaN     UNIVERSITY             E          BLV   \n",
       "4                NaN     DARNESTOWN           NaN           RD   \n",
       "...              ...            ...           ...          ...   \n",
       "225685           NaN        GEORGIA           NaN          AVE   \n",
       "225686           NaN          SLIGO           NaN          AVE   \n",
       "225687           NaN      REGALWOOD           NaN          TER   \n",
       "225688           NaN    MEADOW HALL           NaN           DR   \n",
       "225689           NaN  NEW HAMPSHIRE           NaN          AVE   \n",
       "\n",
       "               Start_Date_Time           End_Date_Time   Latitude  Longitude  \\\n",
       "0       07/01/2016 12:04:00 AM                     NaN  39.078911 -77.080827   \n",
       "1       11/22/2018 04:58:00 AM  11/22/2018 10:00:00 AM  38.973022 -76.996799   \n",
       "2       03/03/2019 04:52:00 AM  03/03/2019 04:57:00 AM  38.956840 -77.111362   \n",
       "3       04/02/2019 11:00:00 AM  04/02/2019 12:00:00 PM  39.020392 -77.012776   \n",
       "4       02/04/2020 07:05:00 PM  02/04/2020 07:10:00 PM  39.116987 -77.249952   \n",
       "...                        ...                     ...        ...        ...   \n",
       "225685  07/04/2019 01:03:00 AM  07/04/2019 02:28:00 AM  39.058066 -77.050032   \n",
       "225686  06/13/2019 10:33:00 AM  06/13/2019 11:30:00 AM  38.990216 -77.024017   \n",
       "225687  04/19/2019 12:00:00 PM  06/19/2019 08:22:00 PM  39.098924 -76.920850   \n",
       "225688  07/18/2019 06:48:00 PM                     NaN  39.075179 -77.112958   \n",
       "225689  07/26/2019 09:57:00 AM                     NaN  39.071451 -77.003225   \n",
       "\n",
       "       Police District Number             Location  \n",
       "0                          4D  (39.0789, -77.0808)  \n",
       "1                          8D   (38.973, -76.9968)  \n",
       "2                          2D  (38.9568, -77.1114)  \n",
       "3                          3D  (39.0204, -77.0128)  \n",
       "4                          6D     (39.117, -77.25)  \n",
       "...                       ...                  ...  \n",
       "225685                     4D    (39.0581, -77.05)  \n",
       "225686                     3D   (38.9902, -77.024)  \n",
       "225687                     3D  (39.0989, -76.9208)  \n",
       "225688                     1D   (39.0752, -77.113)  \n",
       "225689                     3D  (39.0715, -77.0032)  \n",
       "\n",
       "[225690 rows x 30 columns]"
      ]
     },
     "execution_count": 7,
     "metadata": {},
     "output_type": "execute_result"
    }
   ],
   "source": [
    "df_c"
   ]
  },
  {
   "cell_type": "code",
   "execution_count": 8,
   "metadata": {
    "colab": {
     "base_uri": "https://localhost:8080/"
    },
    "id": "ojd0JLEPAoBM",
    "outputId": "71f89a87-5b6d-41d0-8ecc-28e6d92f4b72"
   },
   "outputs": [
    {
     "data": {
      "text/plain": [
       "Index(['Incident_ID', 'Offence_Code', 'CR_Number', 'Dispatch_Date_/_Time',\n",
       "       'NIBRS_Code', 'Victims', 'Crime_Name1', 'Crime_Name2', 'Crime_Name3',\n",
       "       'Police_District_Name', 'Block_Address', 'City', 'State', 'Zip_Code',\n",
       "       'Agency', 'Place', 'Sector', 'Beat', 'PRA', 'Address_Number',\n",
       "       'Street_Prefix', 'Street_Name', 'Street_Suffix', 'Street_Type',\n",
       "       'Start_Date_Time', 'End_Date_Time', 'Latitude', 'Longitude',\n",
       "       'Police_District_Number', 'Location'],\n",
       "      dtype='object')"
      ]
     },
     "execution_count": 8,
     "metadata": {},
     "output_type": "execute_result"
    }
   ],
   "source": [
    "df_c.columns.str.replace(' ', '_')"
   ]
  },
  {
   "cell_type": "code",
   "execution_count": 9,
   "metadata": {
    "id": "g2jFwn-QAoBP"
   },
   "outputs": [],
   "source": [
    "df_c.columns = df_c.columns.str.replace(' ', '_')"
   ]
  },
  {
   "cell_type": "code",
   "execution_count": 10,
   "metadata": {
    "id": "swXVwhLJAoBR"
   },
   "outputs": [],
   "source": [
    "df_c = df_c[['Incident_ID', 'Offence_Code', 'CR_Number', 'Victims', 'Crime_Name1', 'Crime_Name2', 'Crime_Name3', 'Start_Date_Time']]"
   ]
  },
  {
   "cell_type": "code",
   "execution_count": 11,
   "metadata": {
    "colab": {
     "base_uri": "https://localhost:8080/",
     "height": 204
    },
    "id": "hJktCAbOEL4P",
    "outputId": "1dacdae6-8fa6-4dc6-a24f-986da9891b9a"
   },
   "outputs": [
    {
     "data": {
      "text/html": [
       "<div>\n",
       "<style scoped>\n",
       "    .dataframe tbody tr th:only-of-type {\n",
       "        vertical-align: middle;\n",
       "    }\n",
       "\n",
       "    .dataframe tbody tr th {\n",
       "        vertical-align: top;\n",
       "    }\n",
       "\n",
       "    .dataframe thead th {\n",
       "        text-align: right;\n",
       "    }\n",
       "</style>\n",
       "<table border=\"1\" class=\"dataframe\">\n",
       "  <thead>\n",
       "    <tr style=\"text-align: right;\">\n",
       "      <th></th>\n",
       "      <th>Incident_ID</th>\n",
       "      <th>Offence_Code</th>\n",
       "      <th>CR_Number</th>\n",
       "      <th>Victims</th>\n",
       "      <th>Crime_Name1</th>\n",
       "      <th>Crime_Name2</th>\n",
       "      <th>Crime_Name3</th>\n",
       "      <th>Start_Date_Time</th>\n",
       "    </tr>\n",
       "  </thead>\n",
       "  <tbody>\n",
       "    <tr>\n",
       "      <th>0</th>\n",
       "      <td>201087097</td>\n",
       "      <td>5707</td>\n",
       "      <td>16033232</td>\n",
       "      <td>1</td>\n",
       "      <td>Crime Against Society</td>\n",
       "      <td>Trespass of Real Property</td>\n",
       "      <td>TRESPASSING</td>\n",
       "      <td>07/01/2016 12:04:00 AM</td>\n",
       "    </tr>\n",
       "    <tr>\n",
       "      <th>1</th>\n",
       "      <td>201215730</td>\n",
       "      <td>5311</td>\n",
       "      <td>180058531</td>\n",
       "      <td>1</td>\n",
       "      <td>Crime Against Society</td>\n",
       "      <td>Disorderly Conduct</td>\n",
       "      <td>PUBLIC PEACE - DISORDERLY CONDUCT</td>\n",
       "      <td>11/22/2018 04:58:00 AM</td>\n",
       "    </tr>\n",
       "    <tr>\n",
       "      <th>2</th>\n",
       "      <td>201229073</td>\n",
       "      <td>3562</td>\n",
       "      <td>190009928</td>\n",
       "      <td>1</td>\n",
       "      <td>Crime Against Society</td>\n",
       "      <td>Drug/Narcotic Violations</td>\n",
       "      <td>DRUGS - MARIJUANA - POSSESS</td>\n",
       "      <td>03/03/2019 04:52:00 AM</td>\n",
       "    </tr>\n",
       "    <tr>\n",
       "      <th>3</th>\n",
       "      <td>201233523</td>\n",
       "      <td>1114</td>\n",
       "      <td>190015440</td>\n",
       "      <td>1</td>\n",
       "      <td>Crime Against Person</td>\n",
       "      <td>Forcible Sodomy</td>\n",
       "      <td>SEX ASSAULT - SODOMY-GIRL-STRONG-ARM</td>\n",
       "      <td>04/02/2019 11:00:00 AM</td>\n",
       "    </tr>\n",
       "    <tr>\n",
       "      <th>4</th>\n",
       "      <td>201276479</td>\n",
       "      <td>1213</td>\n",
       "      <td>200005863</td>\n",
       "      <td>1</td>\n",
       "      <td>Crime Against Property</td>\n",
       "      <td>Robbery</td>\n",
       "      <td>ROBBERY - GUN</td>\n",
       "      <td>02/04/2020 07:05:00 PM</td>\n",
       "    </tr>\n",
       "  </tbody>\n",
       "</table>\n",
       "</div>"
      ],
      "text/plain": [
       "   Incident_ID Offence_Code  CR_Number  Victims             Crime_Name1  \\\n",
       "0    201087097         5707   16033232        1   Crime Against Society   \n",
       "1    201215730         5311  180058531        1   Crime Against Society   \n",
       "2    201229073         3562  190009928        1   Crime Against Society   \n",
       "3    201233523         1114  190015440        1    Crime Against Person   \n",
       "4    201276479         1213  200005863        1  Crime Against Property   \n",
       "\n",
       "                 Crime_Name2                           Crime_Name3  \\\n",
       "0  Trespass of Real Property                           TRESPASSING   \n",
       "1         Disorderly Conduct     PUBLIC PEACE - DISORDERLY CONDUCT   \n",
       "2   Drug/Narcotic Violations           DRUGS - MARIJUANA - POSSESS   \n",
       "3            Forcible Sodomy  SEX ASSAULT - SODOMY-GIRL-STRONG-ARM   \n",
       "4                    Robbery                         ROBBERY - GUN   \n",
       "\n",
       "          Start_Date_Time  \n",
       "0  07/01/2016 12:04:00 AM  \n",
       "1  11/22/2018 04:58:00 AM  \n",
       "2  03/03/2019 04:52:00 AM  \n",
       "3  04/02/2019 11:00:00 AM  \n",
       "4  02/04/2020 07:05:00 PM  "
      ]
     },
     "execution_count": 11,
     "metadata": {},
     "output_type": "execute_result"
    }
   ],
   "source": [
    "df_c.head()"
   ]
  },
  {
   "cell_type": "code",
   "execution_count": 12,
   "metadata": {
    "colab": {
     "base_uri": "https://localhost:8080/"
    },
    "id": "lOnA6i6UAoBX",
    "outputId": "3cec182c-0b0b-450c-d39e-3a62780ff6e3"
   },
   "outputs": [
    {
     "data": {
      "text/plain": [
       "array(['Simple Assault', 'Aggravated Assault', 'All Other Offenses',\n",
       "       'Forcible Sodomy', 'Fondling', 'Forcible Fondling',\n",
       "       'Sexual Assault With An Object', 'Intimidation', 'Forcible Rape',\n",
       "       'Human Trafficking, Commercial Sex Acts', 'Runaway',\n",
       "       'Murder and Nonnegligent Manslaughter', nan,\n",
       "       'Kidnapping/Abduction'], dtype=object)"
      ]
     },
     "execution_count": 12,
     "metadata": {},
     "output_type": "execute_result"
    }
   ],
   "source": [
    "df_c[df_c['Victims']>1]['Crime_Name2'].unique()"
   ]
  },
  {
   "cell_type": "code",
   "execution_count": 13,
   "metadata": {
    "colab": {
     "base_uri": "https://localhost:8080/"
    },
    "id": "5_4cw-6rAoBa",
    "outputId": "cf0b2985-506d-40ff-f5a6-8c2c934d717e"
   },
   "outputs": [
    {
     "data": {
      "text/plain": [
       "array(['Trespass of Real Property', 'Disorderly Conduct',\n",
       "       'Drug/Narcotic Violations', 'Forcible Sodomy', 'Robbery',\n",
       "       'Identity Theft', 'Motor Vehicle Theft',\n",
       "       'Theft of Motor Vehicle Parts or Accessories',\n",
       "       'All Other Offenses', 'Theft From Motor Vehicle',\n",
       "       'Liquor Law Violations', 'Fondling', 'Shoplifting',\n",
       "       'Simple Assault', 'Driving Under the Influence', 'Impersonation',\n",
       "       'Destruction/Damage/Vandalism of Property', 'All other Larceny',\n",
       "       'Credit Card/Automatic Teller Machine Fraud',\n",
       "       'Burglary/Breaking and Entering', 'Sexual Assault With An Object',\n",
       "       'Weapon Law Violations', 'Theft from Building',\n",
       "       'False Pretenses/Swindle/Confidence Game', 'Forcible Rape',\n",
       "       'Counterfeiting/Forgery', 'Runaway', 'Aggravated Assault',\n",
       "       'Pocket/picking', 'Drug Equipment Violations', 'Forcible Fondling',\n",
       "       'Intimidation', 'Arson', 'Extortion/Blackmail', 'Not Mapped',\n",
       "       'Pornography/Obscene Material', 'Purse-snatching',\n",
       "       'Family Offenses, NonViolent', nan, 'Peeping Tom',\n",
       "       'Stolen Property Offenses', 'NOT NIBRS CODE', 'Embezzlement',\n",
       "       'Wire Fraud', 'Murder and Nonnegligent Manslaughter', 'Bad Checks',\n",
       "       'Curfew/Loitering/Vagrancy Violations',\n",
       "       'Assisting or Promoting Prostitution', 'Prostitution',\n",
       "       'Human Trafficking, Commercial Sex Acts', 'Kidnapping/Abduction',\n",
       "       'From Coin/Operated Machine or Device', 'Drunkenness',\n",
       "       'Welfare Fraud', 'Operating/Promoting/Assisting Gambling',\n",
       "       'Justifiable Homicide', 'Negligent Manslaughter'], dtype=object)"
      ]
     },
     "execution_count": 13,
     "metadata": {},
     "output_type": "execute_result"
    }
   ],
   "source": [
    "df_c.Crime_Name2.unique()"
   ]
  },
  {
   "cell_type": "markdown",
   "metadata": {
    "id": "qZ8wZvpwAoBd"
   },
   "source": [
    "I will focus on Drug/Narcotic Violations, Motor Vehicle Theft, Theft of Motor Vehicle Parts or Accessories, Driving under the Influence, Burglary/Breaking and Entering, Forcible Rape. 7 categories"
   ]
  },
  {
   "cell_type": "code",
   "execution_count": 14,
   "metadata": {
    "id": "pjTCUx_ZAoBd"
   },
   "outputs": [],
   "source": [
    "my_list = ['Drug/Narcotic Violations', 'Motor Vehicle Theft', 'Theft of Motor Vehicle Parts or Accessories', 'Driving under the Influence', 'Burglary/Breaking and Entering', 'Forcible Rape']"
   ]
  },
  {
   "cell_type": "code",
   "execution_count": 15,
   "metadata": {
    "id": "GLt2z2PwAoBf"
   },
   "outputs": [],
   "source": [
    "df_2 = df_c[df_c['Crime_Name2'].isin(my_list)]"
   ]
  },
  {
   "cell_type": "code",
   "execution_count": 16,
   "metadata": {
    "colab": {
     "base_uri": "https://localhost:8080/"
    },
    "id": "CnZz0Ch2AoBh",
    "outputId": "8023c22f-5915-48fa-e372-102156404836"
   },
   "outputs": [
    {
     "name": "stderr",
     "output_type": "stream",
     "text": [
      "C:\\Users\\Tu\\anaconda3\\lib\\site-packages\\ipykernel_launcher.py:1: SettingWithCopyWarning: \n",
      "A value is trying to be set on a copy of a slice from a DataFrame.\n",
      "Try using .loc[row_indexer,col_indexer] = value instead\n",
      "\n",
      "See the caveats in the documentation: https://pandas.pydata.org/pandas-docs/stable/user_guide/indexing.html#returning-a-view-versus-a-copy\n",
      "  \"\"\"Entry point for launching an IPython kernel.\n"
     ]
    }
   ],
   "source": [
    "df_2['Date'] = pd.to_datetime(df_2['Start_Date_Time'])"
   ]
  },
  {
   "cell_type": "code",
   "execution_count": 17,
   "metadata": {
    "colab": {
     "base_uri": "https://localhost:8080/"
    },
    "id": "lYUSGuAzAoBj",
    "outputId": "2be4aa8f-9c24-48cc-d068-bce654c029bf"
   },
   "outputs": [
    {
     "name": "stderr",
     "output_type": "stream",
     "text": [
      "C:\\Users\\Tu\\anaconda3\\lib\\site-packages\\ipykernel_launcher.py:1: SettingWithCopyWarning: \n",
      "A value is trying to be set on a copy of a slice from a DataFrame.\n",
      "Try using .loc[row_indexer,col_indexer] = value instead\n",
      "\n",
      "See the caveats in the documentation: https://pandas.pydata.org/pandas-docs/stable/user_guide/indexing.html#returning-a-view-versus-a-copy\n",
      "  \"\"\"Entry point for launching an IPython kernel.\n"
     ]
    }
   ],
   "source": [
    "df_2['Date'] = pd.to_datetime(df_2['Start_Date_Time']).dt.date"
   ]
  },
  {
   "cell_type": "code",
   "execution_count": 18,
   "metadata": {
    "colab": {
     "base_uri": "https://localhost:8080/",
     "height": 204
    },
    "id": "fhwO7nOpEsi8",
    "outputId": "dd11dfa2-3b30-4958-ec7d-4318b2227f6d"
   },
   "outputs": [
    {
     "data": {
      "text/html": [
       "<div>\n",
       "<style scoped>\n",
       "    .dataframe tbody tr th:only-of-type {\n",
       "        vertical-align: middle;\n",
       "    }\n",
       "\n",
       "    .dataframe tbody tr th {\n",
       "        vertical-align: top;\n",
       "    }\n",
       "\n",
       "    .dataframe thead th {\n",
       "        text-align: right;\n",
       "    }\n",
       "</style>\n",
       "<table border=\"1\" class=\"dataframe\">\n",
       "  <thead>\n",
       "    <tr style=\"text-align: right;\">\n",
       "      <th></th>\n",
       "      <th>Incident_ID</th>\n",
       "      <th>Offence_Code</th>\n",
       "      <th>CR_Number</th>\n",
       "      <th>Victims</th>\n",
       "      <th>Crime_Name1</th>\n",
       "      <th>Crime_Name2</th>\n",
       "      <th>Crime_Name3</th>\n",
       "      <th>Start_Date_Time</th>\n",
       "      <th>Date</th>\n",
       "    </tr>\n",
       "  </thead>\n",
       "  <tbody>\n",
       "    <tr>\n",
       "      <th>2</th>\n",
       "      <td>201229073</td>\n",
       "      <td>3562</td>\n",
       "      <td>190009928</td>\n",
       "      <td>1</td>\n",
       "      <td>Crime Against Society</td>\n",
       "      <td>Drug/Narcotic Violations</td>\n",
       "      <td>DRUGS - MARIJUANA - POSSESS</td>\n",
       "      <td>03/03/2019 04:52:00 AM</td>\n",
       "      <td>2019-03-03</td>\n",
       "    </tr>\n",
       "    <tr>\n",
       "      <th>5</th>\n",
       "      <td>201279553</td>\n",
       "      <td>3562</td>\n",
       "      <td>200009724</td>\n",
       "      <td>1</td>\n",
       "      <td>Crime Against Society</td>\n",
       "      <td>Drug/Narcotic Violations</td>\n",
       "      <td>DRUGS - MARIJUANA - POSSESS</td>\n",
       "      <td>02/27/2020 11:45:00 AM</td>\n",
       "      <td>2020-02-27</td>\n",
       "    </tr>\n",
       "    <tr>\n",
       "      <th>6</th>\n",
       "      <td>201087102</td>\n",
       "      <td>3562</td>\n",
       "      <td>16033238</td>\n",
       "      <td>1</td>\n",
       "      <td>Crime Against Society</td>\n",
       "      <td>Drug/Narcotic Violations</td>\n",
       "      <td>DRUGS - MARIJUANA - POSSESS</td>\n",
       "      <td>07/01/2016 12:58:00 AM</td>\n",
       "      <td>2016-07-01</td>\n",
       "    </tr>\n",
       "    <tr>\n",
       "      <th>8</th>\n",
       "      <td>201087139</td>\n",
       "      <td>3512</td>\n",
       "      <td>16033280</td>\n",
       "      <td>1</td>\n",
       "      <td>Crime Against Society</td>\n",
       "      <td>Drug/Narcotic Violations</td>\n",
       "      <td>DRUGS - HEROIN - POSSESS</td>\n",
       "      <td>07/01/2016 09:30:00 AM</td>\n",
       "      <td>2016-07-01</td>\n",
       "    </tr>\n",
       "    <tr>\n",
       "      <th>9</th>\n",
       "      <td>201251833</td>\n",
       "      <td>2404</td>\n",
       "      <td>190038194</td>\n",
       "      <td>1</td>\n",
       "      <td>Crime Against Property</td>\n",
       "      <td>Motor Vehicle Theft</td>\n",
       "      <td>AUTO THEFT - VEHICLE THEFT</td>\n",
       "      <td>08/10/2019 10:00:00 AM</td>\n",
       "      <td>2019-08-10</td>\n",
       "    </tr>\n",
       "  </tbody>\n",
       "</table>\n",
       "</div>"
      ],
      "text/plain": [
       "   Incident_ID Offence_Code  CR_Number  Victims             Crime_Name1  \\\n",
       "2    201229073         3562  190009928        1   Crime Against Society   \n",
       "5    201279553         3562  200009724        1   Crime Against Society   \n",
       "6    201087102         3562   16033238        1   Crime Against Society   \n",
       "8    201087139         3512   16033280        1   Crime Against Society   \n",
       "9    201251833         2404  190038194        1  Crime Against Property   \n",
       "\n",
       "                Crime_Name2                  Crime_Name3  \\\n",
       "2  Drug/Narcotic Violations  DRUGS - MARIJUANA - POSSESS   \n",
       "5  Drug/Narcotic Violations  DRUGS - MARIJUANA - POSSESS   \n",
       "6  Drug/Narcotic Violations  DRUGS - MARIJUANA - POSSESS   \n",
       "8  Drug/Narcotic Violations     DRUGS - HEROIN - POSSESS   \n",
       "9       Motor Vehicle Theft   AUTO THEFT - VEHICLE THEFT   \n",
       "\n",
       "          Start_Date_Time        Date  \n",
       "2  03/03/2019 04:52:00 AM  2019-03-03  \n",
       "5  02/27/2020 11:45:00 AM  2020-02-27  \n",
       "6  07/01/2016 12:58:00 AM  2016-07-01  \n",
       "8  07/01/2016 09:30:00 AM  2016-07-01  \n",
       "9  08/10/2019 10:00:00 AM  2019-08-10  "
      ]
     },
     "execution_count": 18,
     "metadata": {},
     "output_type": "execute_result"
    }
   ],
   "source": [
    "df_2.head()"
   ]
  },
  {
   "cell_type": "code",
   "execution_count": 19,
   "metadata": {
    "colab": {
     "base_uri": "https://localhost:8080/"
    },
    "id": "_WQRwLktAoBo",
    "outputId": "c25ea8e7-8308-44ae-a3fa-0ffc33fb7943"
   },
   "outputs": [
    {
     "name": "stderr",
     "output_type": "stream",
     "text": [
      "C:\\Users\\Tu\\anaconda3\\lib\\site-packages\\ipykernel_launcher.py:1: SettingWithCopyWarning: \n",
      "A value is trying to be set on a copy of a slice from a DataFrame.\n",
      "Try using .loc[row_indexer,col_indexer] = value instead\n",
      "\n",
      "See the caveats in the documentation: https://pandas.pydata.org/pandas-docs/stable/user_guide/indexing.html#returning-a-view-versus-a-copy\n",
      "  \"\"\"Entry point for launching an IPython kernel.\n"
     ]
    }
   ],
   "source": [
    "df_2['Time'] = pd.to_datetime(df_2['Start_Date_Time']).dt.time"
   ]
  },
  {
   "cell_type": "code",
   "execution_count": 20,
   "metadata": {
    "colab": {
     "base_uri": "https://localhost:8080/",
     "height": 289
    },
    "id": "hJHR4HX6E1dZ",
    "outputId": "206413a7-ad27-4549-c233-012c64964741"
   },
   "outputs": [
    {
     "data": {
      "text/html": [
       "<div>\n",
       "<style scoped>\n",
       "    .dataframe tbody tr th:only-of-type {\n",
       "        vertical-align: middle;\n",
       "    }\n",
       "\n",
       "    .dataframe tbody tr th {\n",
       "        vertical-align: top;\n",
       "    }\n",
       "\n",
       "    .dataframe thead th {\n",
       "        text-align: right;\n",
       "    }\n",
       "</style>\n",
       "<table border=\"1\" class=\"dataframe\">\n",
       "  <thead>\n",
       "    <tr style=\"text-align: right;\">\n",
       "      <th></th>\n",
       "      <th>Incident_ID</th>\n",
       "      <th>Offence_Code</th>\n",
       "      <th>CR_Number</th>\n",
       "      <th>Victims</th>\n",
       "      <th>Crime_Name1</th>\n",
       "      <th>Crime_Name2</th>\n",
       "      <th>Crime_Name3</th>\n",
       "      <th>Start_Date_Time</th>\n",
       "      <th>Date</th>\n",
       "      <th>Time</th>\n",
       "    </tr>\n",
       "  </thead>\n",
       "  <tbody>\n",
       "    <tr>\n",
       "      <th>2</th>\n",
       "      <td>201229073</td>\n",
       "      <td>3562</td>\n",
       "      <td>190009928</td>\n",
       "      <td>1</td>\n",
       "      <td>Crime Against Society</td>\n",
       "      <td>Drug/Narcotic Violations</td>\n",
       "      <td>DRUGS - MARIJUANA - POSSESS</td>\n",
       "      <td>03/03/2019 04:52:00 AM</td>\n",
       "      <td>2019-03-03</td>\n",
       "      <td>04:52:00</td>\n",
       "    </tr>\n",
       "    <tr>\n",
       "      <th>5</th>\n",
       "      <td>201279553</td>\n",
       "      <td>3562</td>\n",
       "      <td>200009724</td>\n",
       "      <td>1</td>\n",
       "      <td>Crime Against Society</td>\n",
       "      <td>Drug/Narcotic Violations</td>\n",
       "      <td>DRUGS - MARIJUANA - POSSESS</td>\n",
       "      <td>02/27/2020 11:45:00 AM</td>\n",
       "      <td>2020-02-27</td>\n",
       "      <td>11:45:00</td>\n",
       "    </tr>\n",
       "    <tr>\n",
       "      <th>6</th>\n",
       "      <td>201087102</td>\n",
       "      <td>3562</td>\n",
       "      <td>16033238</td>\n",
       "      <td>1</td>\n",
       "      <td>Crime Against Society</td>\n",
       "      <td>Drug/Narcotic Violations</td>\n",
       "      <td>DRUGS - MARIJUANA - POSSESS</td>\n",
       "      <td>07/01/2016 12:58:00 AM</td>\n",
       "      <td>2016-07-01</td>\n",
       "      <td>00:58:00</td>\n",
       "    </tr>\n",
       "    <tr>\n",
       "      <th>8</th>\n",
       "      <td>201087139</td>\n",
       "      <td>3512</td>\n",
       "      <td>16033280</td>\n",
       "      <td>1</td>\n",
       "      <td>Crime Against Society</td>\n",
       "      <td>Drug/Narcotic Violations</td>\n",
       "      <td>DRUGS - HEROIN - POSSESS</td>\n",
       "      <td>07/01/2016 09:30:00 AM</td>\n",
       "      <td>2016-07-01</td>\n",
       "      <td>09:30:00</td>\n",
       "    </tr>\n",
       "    <tr>\n",
       "      <th>9</th>\n",
       "      <td>201251833</td>\n",
       "      <td>2404</td>\n",
       "      <td>190038194</td>\n",
       "      <td>1</td>\n",
       "      <td>Crime Against Property</td>\n",
       "      <td>Motor Vehicle Theft</td>\n",
       "      <td>AUTO THEFT - VEHICLE THEFT</td>\n",
       "      <td>08/10/2019 10:00:00 AM</td>\n",
       "      <td>2019-08-10</td>\n",
       "      <td>10:00:00</td>\n",
       "    </tr>\n",
       "  </tbody>\n",
       "</table>\n",
       "</div>"
      ],
      "text/plain": [
       "   Incident_ID Offence_Code  CR_Number  Victims             Crime_Name1  \\\n",
       "2    201229073         3562  190009928        1   Crime Against Society   \n",
       "5    201279553         3562  200009724        1   Crime Against Society   \n",
       "6    201087102         3562   16033238        1   Crime Against Society   \n",
       "8    201087139         3512   16033280        1   Crime Against Society   \n",
       "9    201251833         2404  190038194        1  Crime Against Property   \n",
       "\n",
       "                Crime_Name2                  Crime_Name3  \\\n",
       "2  Drug/Narcotic Violations  DRUGS - MARIJUANA - POSSESS   \n",
       "5  Drug/Narcotic Violations  DRUGS - MARIJUANA - POSSESS   \n",
       "6  Drug/Narcotic Violations  DRUGS - MARIJUANA - POSSESS   \n",
       "8  Drug/Narcotic Violations     DRUGS - HEROIN - POSSESS   \n",
       "9       Motor Vehicle Theft   AUTO THEFT - VEHICLE THEFT   \n",
       "\n",
       "          Start_Date_Time        Date      Time  \n",
       "2  03/03/2019 04:52:00 AM  2019-03-03  04:52:00  \n",
       "5  02/27/2020 11:45:00 AM  2020-02-27  11:45:00  \n",
       "6  07/01/2016 12:58:00 AM  2016-07-01  00:58:00  \n",
       "8  07/01/2016 09:30:00 AM  2016-07-01  09:30:00  \n",
       "9  08/10/2019 10:00:00 AM  2019-08-10  10:00:00  "
      ]
     },
     "execution_count": 20,
     "metadata": {},
     "output_type": "execute_result"
    }
   ],
   "source": [
    "df_2.head()"
   ]
  },
  {
   "cell_type": "code",
   "execution_count": 21,
   "metadata": {
    "colab": {
     "base_uri": "https://localhost:8080/"
    },
    "id": "2YDCOJ-JAoBs",
    "outputId": "db80075c-4ce4-4527-80bd-d184b8f9cdb2"
   },
   "outputs": [
    {
     "data": {
      "text/plain": [
       "Incident_ID         int64\n",
       "Offence_Code       object\n",
       "CR_Number           int64\n",
       "Victims             int64\n",
       "Crime_Name1        object\n",
       "Crime_Name2        object\n",
       "Crime_Name3        object\n",
       "Start_Date_Time    object\n",
       "Date               object\n",
       "Time               object\n",
       "dtype: object"
      ]
     },
     "execution_count": 21,
     "metadata": {},
     "output_type": "execute_result"
    }
   ],
   "source": [
    "df_2.dtypes"
   ]
  },
  {
   "cell_type": "code",
   "execution_count": 22,
   "metadata": {
    "colab": {
     "base_uri": "https://localhost:8080/"
    },
    "id": "ww4Aq_lJAoBu",
    "outputId": "804bc8d5-bceb-413b-c5d0-c29257172560"
   },
   "outputs": [
    {
     "name": "stderr",
     "output_type": "stream",
     "text": [
      "C:\\Users\\Tu\\anaconda3\\lib\\site-packages\\ipykernel_launcher.py:1: SettingWithCopyWarning: \n",
      "A value is trying to be set on a copy of a slice from a DataFrame.\n",
      "Try using .loc[row_indexer,col_indexer] = value instead\n",
      "\n",
      "See the caveats in the documentation: https://pandas.pydata.org/pandas-docs/stable/user_guide/indexing.html#returning-a-view-versus-a-copy\n",
      "  \"\"\"Entry point for launching an IPython kernel.\n"
     ]
    }
   ],
   "source": [
    "df_2['Date'] = pd.to_datetime(df_2['Date'])"
   ]
  },
  {
   "cell_type": "code",
   "execution_count": 23,
   "metadata": {
    "id": "7vHTCR5FAoBw"
   },
   "outputs": [],
   "source": [
    "daily = df_2.groupby(df_2['Date'])[['Incident_ID', 'Victims']].agg(['count']).reset_index()"
   ]
  },
  {
   "cell_type": "code",
   "execution_count": 24,
   "metadata": {
    "colab": {
     "base_uri": "https://localhost:8080/"
    },
    "id": "6p9s6pMLAoBy",
    "outputId": "dea997fd-3a30-4032-8ab4-e8659d1d62e1"
   },
   "outputs": [
    {
     "data": {
      "text/plain": [
       "MultiIndex([(       'Date',      ''),\n",
       "            ('Incident_ID', 'count'),\n",
       "            (    'Victims', 'count')],\n",
       "           )"
      ]
     },
     "execution_count": 24,
     "metadata": {},
     "output_type": "execute_result"
    }
   ],
   "source": [
    "daily.columns"
   ]
  },
  {
   "cell_type": "code",
   "execution_count": 25,
   "metadata": {
    "id": "Yv-y1SjjAoB0"
   },
   "outputs": [],
   "source": [
    "daily.columns = ['Date', 'Incidents', 'Victims']"
   ]
  },
  {
   "cell_type": "code",
   "execution_count": 26,
   "metadata": {
    "colab": {
     "base_uri": "https://localhost:8080/",
     "height": 419
    },
    "id": "jFePrFntFJ54",
    "outputId": "d00bdf42-2704-4e77-e7d6-bc662dbf1570"
   },
   "outputs": [
    {
     "data": {
      "text/html": [
       "<div>\n",
       "<style scoped>\n",
       "    .dataframe tbody tr th:only-of-type {\n",
       "        vertical-align: middle;\n",
       "    }\n",
       "\n",
       "    .dataframe tbody tr th {\n",
       "        vertical-align: top;\n",
       "    }\n",
       "\n",
       "    .dataframe thead th {\n",
       "        text-align: right;\n",
       "    }\n",
       "</style>\n",
       "<table border=\"1\" class=\"dataframe\">\n",
       "  <thead>\n",
       "    <tr style=\"text-align: right;\">\n",
       "      <th></th>\n",
       "      <th>Date</th>\n",
       "      <th>Incidents</th>\n",
       "      <th>Victims</th>\n",
       "    </tr>\n",
       "  </thead>\n",
       "  <tbody>\n",
       "    <tr>\n",
       "      <th>0</th>\n",
       "      <td>2016-07-01</td>\n",
       "      <td>37</td>\n",
       "      <td>37</td>\n",
       "    </tr>\n",
       "    <tr>\n",
       "      <th>1</th>\n",
       "      <td>2016-07-02</td>\n",
       "      <td>28</td>\n",
       "      <td>28</td>\n",
       "    </tr>\n",
       "    <tr>\n",
       "      <th>2</th>\n",
       "      <td>2016-07-03</td>\n",
       "      <td>29</td>\n",
       "      <td>29</td>\n",
       "    </tr>\n",
       "    <tr>\n",
       "      <th>3</th>\n",
       "      <td>2016-07-04</td>\n",
       "      <td>17</td>\n",
       "      <td>17</td>\n",
       "    </tr>\n",
       "    <tr>\n",
       "      <th>4</th>\n",
       "      <td>2016-07-05</td>\n",
       "      <td>33</td>\n",
       "      <td>33</td>\n",
       "    </tr>\n",
       "    <tr>\n",
       "      <th>...</th>\n",
       "      <td>...</td>\n",
       "      <td>...</td>\n",
       "      <td>...</td>\n",
       "    </tr>\n",
       "    <tr>\n",
       "      <th>1576</th>\n",
       "      <td>2020-10-24</td>\n",
       "      <td>11</td>\n",
       "      <td>11</td>\n",
       "    </tr>\n",
       "    <tr>\n",
       "      <th>1577</th>\n",
       "      <td>2020-10-25</td>\n",
       "      <td>11</td>\n",
       "      <td>11</td>\n",
       "    </tr>\n",
       "    <tr>\n",
       "      <th>1578</th>\n",
       "      <td>2020-10-26</td>\n",
       "      <td>15</td>\n",
       "      <td>15</td>\n",
       "    </tr>\n",
       "    <tr>\n",
       "      <th>1579</th>\n",
       "      <td>2020-10-27</td>\n",
       "      <td>8</td>\n",
       "      <td>8</td>\n",
       "    </tr>\n",
       "    <tr>\n",
       "      <th>1580</th>\n",
       "      <td>2020-10-28</td>\n",
       "      <td>1</td>\n",
       "      <td>1</td>\n",
       "    </tr>\n",
       "  </tbody>\n",
       "</table>\n",
       "<p>1581 rows × 3 columns</p>\n",
       "</div>"
      ],
      "text/plain": [
       "           Date  Incidents  Victims\n",
       "0    2016-07-01         37       37\n",
       "1    2016-07-02         28       28\n",
       "2    2016-07-03         29       29\n",
       "3    2016-07-04         17       17\n",
       "4    2016-07-05         33       33\n",
       "...         ...        ...      ...\n",
       "1576 2020-10-24         11       11\n",
       "1577 2020-10-25         11       11\n",
       "1578 2020-10-26         15       15\n",
       "1579 2020-10-27          8        8\n",
       "1580 2020-10-28          1        1\n",
       "\n",
       "[1581 rows x 3 columns]"
      ]
     },
     "execution_count": 26,
     "metadata": {},
     "output_type": "execute_result"
    }
   ],
   "source": [
    "daily"
   ]
  },
  {
   "cell_type": "code",
   "execution_count": 27,
   "metadata": {
    "colab": {
     "base_uri": "https://localhost:8080/"
    },
    "id": "7NnfB6TAAoB4",
    "outputId": "5cefce39-d8de-427a-e091-3e53d50e14c4"
   },
   "outputs": [
    {
     "data": {
      "text/plain": [
       "Date         datetime64[ns]\n",
       "Incidents             int64\n",
       "Victims               int64\n",
       "dtype: object"
      ]
     },
     "execution_count": 27,
     "metadata": {},
     "output_type": "execute_result"
    }
   ],
   "source": [
    "daily.dtypes"
   ]
  },
  {
   "cell_type": "code",
   "execution_count": 28,
   "metadata": {
    "id": "nu8VuAmRAoB6"
   },
   "outputs": [],
   "source": [
    "monthly = daily.groupby([daily.Date.dt.year, daily.Date.dt.month])[['Incidents', 'Victims']].agg(['sum'])"
   ]
  },
  {
   "cell_type": "code",
   "execution_count": 29,
   "metadata": {
    "colab": {
     "base_uri": "https://localhost:8080/",
     "height": 266
    },
    "id": "nQcwqzJpAoB8",
    "outputId": "b72bc4de-9274-40d0-bbda-55c9a84ebd30"
   },
   "outputs": [
    {
     "data": {
      "text/html": [
       "<div>\n",
       "<style scoped>\n",
       "    .dataframe tbody tr th:only-of-type {\n",
       "        vertical-align: middle;\n",
       "    }\n",
       "\n",
       "    .dataframe tbody tr th {\n",
       "        vertical-align: top;\n",
       "    }\n",
       "\n",
       "    .dataframe thead tr th {\n",
       "        text-align: left;\n",
       "    }\n",
       "\n",
       "    .dataframe thead tr:last-of-type th {\n",
       "        text-align: right;\n",
       "    }\n",
       "</style>\n",
       "<table border=\"1\" class=\"dataframe\">\n",
       "  <thead>\n",
       "    <tr>\n",
       "      <th></th>\n",
       "      <th></th>\n",
       "      <th>Incidents</th>\n",
       "      <th>Victims</th>\n",
       "    </tr>\n",
       "    <tr>\n",
       "      <th></th>\n",
       "      <th></th>\n",
       "      <th>sum</th>\n",
       "      <th>sum</th>\n",
       "    </tr>\n",
       "    <tr>\n",
       "      <th>Date</th>\n",
       "      <th>Date</th>\n",
       "      <th></th>\n",
       "      <th></th>\n",
       "    </tr>\n",
       "  </thead>\n",
       "  <tbody>\n",
       "    <tr>\n",
       "      <th rowspan=\"5\" valign=\"top\">2020</th>\n",
       "      <th>6</th>\n",
       "      <td>381</td>\n",
       "      <td>381</td>\n",
       "    </tr>\n",
       "    <tr>\n",
       "      <th>7</th>\n",
       "      <td>480</td>\n",
       "      <td>480</td>\n",
       "    </tr>\n",
       "    <tr>\n",
       "      <th>8</th>\n",
       "      <td>488</td>\n",
       "      <td>488</td>\n",
       "    </tr>\n",
       "    <tr>\n",
       "      <th>9</th>\n",
       "      <td>484</td>\n",
       "      <td>484</td>\n",
       "    </tr>\n",
       "    <tr>\n",
       "      <th>10</th>\n",
       "      <td>365</td>\n",
       "      <td>365</td>\n",
       "    </tr>\n",
       "  </tbody>\n",
       "</table>\n",
       "</div>"
      ],
      "text/plain": [
       "          Incidents Victims\n",
       "                sum     sum\n",
       "Date Date                  \n",
       "2020 6          381     381\n",
       "     7          480     480\n",
       "     8          488     488\n",
       "     9          484     484\n",
       "     10         365     365"
      ]
     },
     "execution_count": 29,
     "metadata": {},
     "output_type": "execute_result"
    }
   ],
   "source": [
    "monthly.tail()"
   ]
  },
  {
   "cell_type": "code",
   "execution_count": 30,
   "metadata": {
    "colab": {
     "base_uri": "https://localhost:8080/"
    },
    "id": "4vFB1oemAoB-",
    "outputId": "8fcc7325-022e-4fce-ab9b-7013971f7af1"
   },
   "outputs": [
    {
     "data": {
      "text/plain": [
       "MultiIndex([('Incidents', 'sum'),\n",
       "            (  'Victims', 'sum')],\n",
       "           )"
      ]
     },
     "execution_count": 30,
     "metadata": {},
     "output_type": "execute_result"
    }
   ],
   "source": [
    "monthly.columns"
   ]
  },
  {
   "cell_type": "code",
   "execution_count": 31,
   "metadata": {
    "id": "MD4sOH9wAoCA"
   },
   "outputs": [],
   "source": [
    "monthly.index = monthly.index.set_names(['Year', 'Month'])"
   ]
  },
  {
   "cell_type": "code",
   "execution_count": 32,
   "metadata": {
    "id": "cb0NPPsTAoCD"
   },
   "outputs": [],
   "source": [
    "monthly.reset_index(inplace=True)"
   ]
  },
  {
   "cell_type": "code",
   "execution_count": 33,
   "metadata": {
    "colab": {
     "base_uri": "https://localhost:8080/",
     "height": 235
    },
    "id": "ubRW1CbCAoCF",
    "outputId": "b01ee4b7-646f-46b2-ec61-cc4e90746406"
   },
   "outputs": [
    {
     "data": {
      "text/html": [
       "<div>\n",
       "<style scoped>\n",
       "    .dataframe tbody tr th:only-of-type {\n",
       "        vertical-align: middle;\n",
       "    }\n",
       "\n",
       "    .dataframe tbody tr th {\n",
       "        vertical-align: top;\n",
       "    }\n",
       "\n",
       "    .dataframe thead tr th {\n",
       "        text-align: left;\n",
       "    }\n",
       "</style>\n",
       "<table border=\"1\" class=\"dataframe\">\n",
       "  <thead>\n",
       "    <tr>\n",
       "      <th></th>\n",
       "      <th>Year</th>\n",
       "      <th>Month</th>\n",
       "      <th>Incidents</th>\n",
       "      <th>Victims</th>\n",
       "    </tr>\n",
       "    <tr>\n",
       "      <th></th>\n",
       "      <th></th>\n",
       "      <th></th>\n",
       "      <th>sum</th>\n",
       "      <th>sum</th>\n",
       "    </tr>\n",
       "  </thead>\n",
       "  <tbody>\n",
       "    <tr>\n",
       "      <th>0</th>\n",
       "      <td>2016</td>\n",
       "      <td>7</td>\n",
       "      <td>797</td>\n",
       "      <td>797</td>\n",
       "    </tr>\n",
       "    <tr>\n",
       "      <th>1</th>\n",
       "      <td>2016</td>\n",
       "      <td>8</td>\n",
       "      <td>765</td>\n",
       "      <td>765</td>\n",
       "    </tr>\n",
       "    <tr>\n",
       "      <th>2</th>\n",
       "      <td>2016</td>\n",
       "      <td>9</td>\n",
       "      <td>762</td>\n",
       "      <td>762</td>\n",
       "    </tr>\n",
       "    <tr>\n",
       "      <th>3</th>\n",
       "      <td>2016</td>\n",
       "      <td>10</td>\n",
       "      <td>761</td>\n",
       "      <td>761</td>\n",
       "    </tr>\n",
       "    <tr>\n",
       "      <th>4</th>\n",
       "      <td>2016</td>\n",
       "      <td>11</td>\n",
       "      <td>755</td>\n",
       "      <td>755</td>\n",
       "    </tr>\n",
       "  </tbody>\n",
       "</table>\n",
       "</div>"
      ],
      "text/plain": [
       "   Year Month Incidents Victims\n",
       "                    sum     sum\n",
       "0  2016     7       797     797\n",
       "1  2016     8       765     765\n",
       "2  2016     9       762     762\n",
       "3  2016    10       761     761\n",
       "4  2016    11       755     755"
      ]
     },
     "execution_count": 33,
     "metadata": {},
     "output_type": "execute_result"
    }
   ],
   "source": [
    "monthly.head()"
   ]
  },
  {
   "cell_type": "code",
   "execution_count": 34,
   "metadata": {
    "id": "2XWPucdGAoCG"
   },
   "outputs": [],
   "source": [
    "monthly.columns = ['Year', 'Month', 'Incidents', 'Victims']"
   ]
  },
  {
   "cell_type": "code",
   "execution_count": 35,
   "metadata": {
    "colab": {
     "base_uri": "https://localhost:8080/",
     "height": 204
    },
    "id": "3dhNEKz2AoCJ",
    "outputId": "f9291941-affb-4a4a-cf68-d42120b31f5c"
   },
   "outputs": [
    {
     "data": {
      "text/html": [
       "<div>\n",
       "<style scoped>\n",
       "    .dataframe tbody tr th:only-of-type {\n",
       "        vertical-align: middle;\n",
       "    }\n",
       "\n",
       "    .dataframe tbody tr th {\n",
       "        vertical-align: top;\n",
       "    }\n",
       "\n",
       "    .dataframe thead th {\n",
       "        text-align: right;\n",
       "    }\n",
       "</style>\n",
       "<table border=\"1\" class=\"dataframe\">\n",
       "  <thead>\n",
       "    <tr style=\"text-align: right;\">\n",
       "      <th></th>\n",
       "      <th>Year</th>\n",
       "      <th>Month</th>\n",
       "      <th>Incidents</th>\n",
       "      <th>Victims</th>\n",
       "    </tr>\n",
       "  </thead>\n",
       "  <tbody>\n",
       "    <tr>\n",
       "      <th>0</th>\n",
       "      <td>2016</td>\n",
       "      <td>7</td>\n",
       "      <td>797</td>\n",
       "      <td>797</td>\n",
       "    </tr>\n",
       "    <tr>\n",
       "      <th>1</th>\n",
       "      <td>2016</td>\n",
       "      <td>8</td>\n",
       "      <td>765</td>\n",
       "      <td>765</td>\n",
       "    </tr>\n",
       "    <tr>\n",
       "      <th>2</th>\n",
       "      <td>2016</td>\n",
       "      <td>9</td>\n",
       "      <td>762</td>\n",
       "      <td>762</td>\n",
       "    </tr>\n",
       "    <tr>\n",
       "      <th>3</th>\n",
       "      <td>2016</td>\n",
       "      <td>10</td>\n",
       "      <td>761</td>\n",
       "      <td>761</td>\n",
       "    </tr>\n",
       "    <tr>\n",
       "      <th>4</th>\n",
       "      <td>2016</td>\n",
       "      <td>11</td>\n",
       "      <td>755</td>\n",
       "      <td>755</td>\n",
       "    </tr>\n",
       "  </tbody>\n",
       "</table>\n",
       "</div>"
      ],
      "text/plain": [
       "   Year  Month  Incidents  Victims\n",
       "0  2016      7        797      797\n",
       "1  2016      8        765      765\n",
       "2  2016      9        762      762\n",
       "3  2016     10        761      761\n",
       "4  2016     11        755      755"
      ]
     },
     "execution_count": 35,
     "metadata": {},
     "output_type": "execute_result"
    }
   ],
   "source": [
    "monthly.head()"
   ]
  },
  {
   "cell_type": "code",
   "execution_count": 36,
   "metadata": {
    "id": "BWiMrZaUAoCL"
   },
   "outputs": [],
   "source": [
    "dates_x = pd.date_range('2016-07-01', '2020-11-01', freq='M')"
   ]
  },
  {
   "cell_type": "code",
   "execution_count": 37,
   "metadata": {
    "id": "YOej5czfAoCN"
   },
   "outputs": [],
   "source": [
    "monthly['x_axis'] = dates_x"
   ]
  },
  {
   "cell_type": "code",
   "execution_count": 38,
   "metadata": {
    "colab": {
     "base_uri": "https://localhost:8080/",
     "height": 204
    },
    "id": "RdwX4wRkAoCP",
    "outputId": "3c451ab6-4162-4a6d-dbc4-0952b2d6ab61"
   },
   "outputs": [
    {
     "data": {
      "text/html": [
       "<div>\n",
       "<style scoped>\n",
       "    .dataframe tbody tr th:only-of-type {\n",
       "        vertical-align: middle;\n",
       "    }\n",
       "\n",
       "    .dataframe tbody tr th {\n",
       "        vertical-align: top;\n",
       "    }\n",
       "\n",
       "    .dataframe thead th {\n",
       "        text-align: right;\n",
       "    }\n",
       "</style>\n",
       "<table border=\"1\" class=\"dataframe\">\n",
       "  <thead>\n",
       "    <tr style=\"text-align: right;\">\n",
       "      <th></th>\n",
       "      <th>Year</th>\n",
       "      <th>Month</th>\n",
       "      <th>Incidents</th>\n",
       "      <th>Victims</th>\n",
       "      <th>x_axis</th>\n",
       "    </tr>\n",
       "  </thead>\n",
       "  <tbody>\n",
       "    <tr>\n",
       "      <th>0</th>\n",
       "      <td>2016</td>\n",
       "      <td>7</td>\n",
       "      <td>797</td>\n",
       "      <td>797</td>\n",
       "      <td>2016-07-31</td>\n",
       "    </tr>\n",
       "    <tr>\n",
       "      <th>1</th>\n",
       "      <td>2016</td>\n",
       "      <td>8</td>\n",
       "      <td>765</td>\n",
       "      <td>765</td>\n",
       "      <td>2016-08-31</td>\n",
       "    </tr>\n",
       "    <tr>\n",
       "      <th>2</th>\n",
       "      <td>2016</td>\n",
       "      <td>9</td>\n",
       "      <td>762</td>\n",
       "      <td>762</td>\n",
       "      <td>2016-09-30</td>\n",
       "    </tr>\n",
       "    <tr>\n",
       "      <th>3</th>\n",
       "      <td>2016</td>\n",
       "      <td>10</td>\n",
       "      <td>761</td>\n",
       "      <td>761</td>\n",
       "      <td>2016-10-31</td>\n",
       "    </tr>\n",
       "    <tr>\n",
       "      <th>4</th>\n",
       "      <td>2016</td>\n",
       "      <td>11</td>\n",
       "      <td>755</td>\n",
       "      <td>755</td>\n",
       "      <td>2016-11-30</td>\n",
       "    </tr>\n",
       "  </tbody>\n",
       "</table>\n",
       "</div>"
      ],
      "text/plain": [
       "   Year  Month  Incidents  Victims     x_axis\n",
       "0  2016      7        797      797 2016-07-31\n",
       "1  2016      8        765      765 2016-08-31\n",
       "2  2016      9        762      762 2016-09-30\n",
       "3  2016     10        761      761 2016-10-31\n",
       "4  2016     11        755      755 2016-11-30"
      ]
     },
     "execution_count": 38,
     "metadata": {},
     "output_type": "execute_result"
    }
   ],
   "source": [
    "monthly.head()"
   ]
  },
  {
   "cell_type": "code",
   "execution_count": 39,
   "metadata": {
    "id": "VjPoijc3AoCR"
   },
   "outputs": [],
   "source": [
    "monthly = monthly[monthly['Year']>=2017].reset_index(drop=True)"
   ]
  },
  {
   "cell_type": "code",
   "execution_count": 40,
   "metadata": {
    "colab": {
     "base_uri": "https://localhost:8080/",
     "height": 204
    },
    "id": "ValvWE6wAoCT",
    "outputId": "e1bbefc8-c115-4777-a3d7-067beae89cc5"
   },
   "outputs": [
    {
     "data": {
      "text/html": [
       "<div>\n",
       "<style scoped>\n",
       "    .dataframe tbody tr th:only-of-type {\n",
       "        vertical-align: middle;\n",
       "    }\n",
       "\n",
       "    .dataframe tbody tr th {\n",
       "        vertical-align: top;\n",
       "    }\n",
       "\n",
       "    .dataframe thead th {\n",
       "        text-align: right;\n",
       "    }\n",
       "</style>\n",
       "<table border=\"1\" class=\"dataframe\">\n",
       "  <thead>\n",
       "    <tr style=\"text-align: right;\">\n",
       "      <th></th>\n",
       "      <th>Year</th>\n",
       "      <th>Month</th>\n",
       "      <th>Incidents</th>\n",
       "      <th>Victims</th>\n",
       "      <th>x_axis</th>\n",
       "    </tr>\n",
       "  </thead>\n",
       "  <tbody>\n",
       "    <tr>\n",
       "      <th>0</th>\n",
       "      <td>2017</td>\n",
       "      <td>1</td>\n",
       "      <td>812</td>\n",
       "      <td>812</td>\n",
       "      <td>2017-01-31</td>\n",
       "    </tr>\n",
       "    <tr>\n",
       "      <th>1</th>\n",
       "      <td>2017</td>\n",
       "      <td>2</td>\n",
       "      <td>731</td>\n",
       "      <td>731</td>\n",
       "      <td>2017-02-28</td>\n",
       "    </tr>\n",
       "    <tr>\n",
       "      <th>2</th>\n",
       "      <td>2017</td>\n",
       "      <td>3</td>\n",
       "      <td>755</td>\n",
       "      <td>755</td>\n",
       "      <td>2017-03-31</td>\n",
       "    </tr>\n",
       "    <tr>\n",
       "      <th>3</th>\n",
       "      <td>2017</td>\n",
       "      <td>4</td>\n",
       "      <td>720</td>\n",
       "      <td>720</td>\n",
       "      <td>2017-04-30</td>\n",
       "    </tr>\n",
       "    <tr>\n",
       "      <th>4</th>\n",
       "      <td>2017</td>\n",
       "      <td>5</td>\n",
       "      <td>812</td>\n",
       "      <td>812</td>\n",
       "      <td>2017-05-31</td>\n",
       "    </tr>\n",
       "  </tbody>\n",
       "</table>\n",
       "</div>"
      ],
      "text/plain": [
       "   Year  Month  Incidents  Victims     x_axis\n",
       "0  2017      1        812      812 2017-01-31\n",
       "1  2017      2        731      731 2017-02-28\n",
       "2  2017      3        755      755 2017-03-31\n",
       "3  2017      4        720      720 2017-04-30\n",
       "4  2017      5        812      812 2017-05-31"
      ]
     },
     "execution_count": 40,
     "metadata": {},
     "output_type": "execute_result"
    }
   ],
   "source": [
    "monthly.head()"
   ]
  },
  {
   "cell_type": "code",
   "execution_count": 41,
   "metadata": {
    "id": "yO-PVhUeAoCU"
   },
   "outputs": [],
   "source": [
    "monthly['Year'] = monthly['Year'].astype('category')"
   ]
  },
  {
   "cell_type": "code",
   "execution_count": 42,
   "metadata": {
    "colab": {
     "base_uri": "https://localhost:8080/",
     "height": 522
    },
    "id": "f6F3R641AoCW",
    "outputId": "770266f8-b37f-460d-eb50-373ff043e538"
   },
   "outputs": [
    {
     "data": {
      "image/png": "[encoded data removed]",
      "text/plain": [
       "<Figure size 864x576 with 1 Axes>"
      ]
     },
     "metadata": {},
     "output_type": "display_data"
    }
   ],
   "source": [
    "sns.set(context = 'paper', rc={'figure.figsize':(12,8), 'figure.facecolor':'white', 'axes.facecolor':'white'}, font_scale=1.5)\n",
    "sns.set_palette('husl')\n",
    "g1 = sns.lineplot(x='Month', y='Incidents', data=monthly, hue='Year')\n",
    "plt.title('Monthly Crimes in Montgomery County 2017-2020')\n",
    "plt.savefig('CrimesMoco.png')"
   ]
  },
  {
   "cell_type": "code",
   "execution_count": 43,
   "metadata": {
    "colab": {
     "base_uri": "https://localhost:8080/"
    },
    "id": "k2WEqZRZAoCY",
    "outputId": "f8eb3e6e-a2df-4468-ba5b-ce721fdce975"
   },
   "outputs": [
    {
     "data": {
      "text/plain": [
       "0"
      ]
     },
     "execution_count": 43,
     "metadata": {},
     "output_type": "execute_result"
    }
   ],
   "source": [
    "sum(monthly['Incidents']<monthly['Victims'])"
   ]
  },
  {
   "cell_type": "code",
   "execution_count": 44,
   "metadata": {
    "id": "A8jsgDesAoCa"
   },
   "outputs": [],
   "source": [
    "avg = monthly[monthly['Year'].astype(int)<2020].groupby('Month')['Incidents'].agg(['mean']).reset_index()"
   ]
  },
  {
   "cell_type": "code",
   "execution_count": 45,
   "metadata": {
    "id": "XJUDshG3AoCc"
   },
   "outputs": [],
   "source": [
    "avg.columns = ['Month', 'Mean']"
   ]
  },
  {
   "cell_type": "code",
   "execution_count": 46,
   "metadata": {
    "colab": {
     "base_uri": "https://localhost:8080/",
     "height": 421
    },
    "id": "kTwDVdALAoCg",
    "outputId": "3fe4380d-b416-442c-928c-2e0811804f47"
   },
   "outputs": [
    {
     "data": {
      "text/html": [
       "<div>\n",
       "<style scoped>\n",
       "    .dataframe tbody tr th:only-of-type {\n",
       "        vertical-align: middle;\n",
       "    }\n",
       "\n",
       "    .dataframe tbody tr th {\n",
       "        vertical-align: top;\n",
       "    }\n",
       "\n",
       "    .dataframe thead th {\n",
       "        text-align: right;\n",
       "    }\n",
       "</style>\n",
       "<table border=\"1\" class=\"dataframe\">\n",
       "  <thead>\n",
       "    <tr style=\"text-align: right;\">\n",
       "      <th></th>\n",
       "      <th>Month</th>\n",
       "      <th>Mean</th>\n",
       "    </tr>\n",
       "  </thead>\n",
       "  <tbody>\n",
       "    <tr>\n",
       "      <th>0</th>\n",
       "      <td>1</td>\n",
       "      <td>770.666667</td>\n",
       "    </tr>\n",
       "    <tr>\n",
       "      <th>1</th>\n",
       "      <td>2</td>\n",
       "      <td>695.666667</td>\n",
       "    </tr>\n",
       "    <tr>\n",
       "      <th>2</th>\n",
       "      <td>3</td>\n",
       "      <td>803.333333</td>\n",
       "    </tr>\n",
       "    <tr>\n",
       "      <th>3</th>\n",
       "      <td>4</td>\n",
       "      <td>777.000000</td>\n",
       "    </tr>\n",
       "    <tr>\n",
       "      <th>4</th>\n",
       "      <td>5</td>\n",
       "      <td>769.666667</td>\n",
       "    </tr>\n",
       "    <tr>\n",
       "      <th>5</th>\n",
       "      <td>6</td>\n",
       "      <td>734.333333</td>\n",
       "    </tr>\n",
       "    <tr>\n",
       "      <th>6</th>\n",
       "      <td>7</td>\n",
       "      <td>737.333333</td>\n",
       "    </tr>\n",
       "    <tr>\n",
       "      <th>7</th>\n",
       "      <td>8</td>\n",
       "      <td>734.666667</td>\n",
       "    </tr>\n",
       "    <tr>\n",
       "      <th>8</th>\n",
       "      <td>9</td>\n",
       "      <td>700.666667</td>\n",
       "    </tr>\n",
       "    <tr>\n",
       "      <th>9</th>\n",
       "      <td>10</td>\n",
       "      <td>776.333333</td>\n",
       "    </tr>\n",
       "    <tr>\n",
       "      <th>10</th>\n",
       "      <td>11</td>\n",
       "      <td>761.333333</td>\n",
       "    </tr>\n",
       "    <tr>\n",
       "      <th>11</th>\n",
       "      <td>12</td>\n",
       "      <td>680.000000</td>\n",
       "    </tr>\n",
       "  </tbody>\n",
       "</table>\n",
       "</div>"
      ],
      "text/plain": [
       "    Month        Mean\n",
       "0       1  770.666667\n",
       "1       2  695.666667\n",
       "2       3  803.333333\n",
       "3       4  777.000000\n",
       "4       5  769.666667\n",
       "5       6  734.333333\n",
       "6       7  737.333333\n",
       "7       8  734.666667\n",
       "8       9  700.666667\n",
       "9      10  776.333333\n",
       "10     11  761.333333\n",
       "11     12  680.000000"
      ]
     },
     "execution_count": 46,
     "metadata": {},
     "output_type": "execute_result"
    }
   ],
   "source": [
    "avg"
   ]
  },
  {
   "cell_type": "code",
   "execution_count": 47,
   "metadata": {
    "id": "ebEBZGZ4AoCi"
   },
   "outputs": [],
   "source": [
    "monthly_20 = monthly[monthly['Year']==2020]"
   ]
  },
  {
   "cell_type": "code",
   "execution_count": 48,
   "metadata": {
    "colab": {
     "base_uri": "https://localhost:8080/",
     "height": 359
    },
    "id": "oQzFTfrYAoCk",
    "outputId": "fbf71a91-f82d-4aad-8f29-6e9ecb0d2f7e"
   },
   "outputs": [
    {
     "data": {
      "text/html": [
       "<div>\n",
       "<style scoped>\n",
       "    .dataframe tbody tr th:only-of-type {\n",
       "        vertical-align: middle;\n",
       "    }\n",
       "\n",
       "    .dataframe tbody tr th {\n",
       "        vertical-align: top;\n",
       "    }\n",
       "\n",
       "    .dataframe thead th {\n",
       "        text-align: right;\n",
       "    }\n",
       "</style>\n",
       "<table border=\"1\" class=\"dataframe\">\n",
       "  <thead>\n",
       "    <tr style=\"text-align: right;\">\n",
       "      <th></th>\n",
       "      <th>Year</th>\n",
       "      <th>Month</th>\n",
       "      <th>Incidents</th>\n",
       "      <th>Victims</th>\n",
       "      <th>x_axis</th>\n",
       "    </tr>\n",
       "  </thead>\n",
       "  <tbody>\n",
       "    <tr>\n",
       "      <th>36</th>\n",
       "      <td>2020</td>\n",
       "      <td>1</td>\n",
       "      <td>623</td>\n",
       "      <td>623</td>\n",
       "      <td>2020-01-31</td>\n",
       "    </tr>\n",
       "    <tr>\n",
       "      <th>37</th>\n",
       "      <td>2020</td>\n",
       "      <td>2</td>\n",
       "      <td>659</td>\n",
       "      <td>659</td>\n",
       "      <td>2020-02-29</td>\n",
       "    </tr>\n",
       "    <tr>\n",
       "      <th>38</th>\n",
       "      <td>2020</td>\n",
       "      <td>3</td>\n",
       "      <td>572</td>\n",
       "      <td>572</td>\n",
       "      <td>2020-03-31</td>\n",
       "    </tr>\n",
       "    <tr>\n",
       "      <th>39</th>\n",
       "      <td>2020</td>\n",
       "      <td>4</td>\n",
       "      <td>274</td>\n",
       "      <td>274</td>\n",
       "      <td>2020-04-30</td>\n",
       "    </tr>\n",
       "    <tr>\n",
       "      <th>40</th>\n",
       "      <td>2020</td>\n",
       "      <td>5</td>\n",
       "      <td>446</td>\n",
       "      <td>446</td>\n",
       "      <td>2020-05-31</td>\n",
       "    </tr>\n",
       "    <tr>\n",
       "      <th>41</th>\n",
       "      <td>2020</td>\n",
       "      <td>6</td>\n",
       "      <td>381</td>\n",
       "      <td>381</td>\n",
       "      <td>2020-06-30</td>\n",
       "    </tr>\n",
       "    <tr>\n",
       "      <th>42</th>\n",
       "      <td>2020</td>\n",
       "      <td>7</td>\n",
       "      <td>480</td>\n",
       "      <td>480</td>\n",
       "      <td>2020-07-31</td>\n",
       "    </tr>\n",
       "    <tr>\n",
       "      <th>43</th>\n",
       "      <td>2020</td>\n",
       "      <td>8</td>\n",
       "      <td>488</td>\n",
       "      <td>488</td>\n",
       "      <td>2020-08-31</td>\n",
       "    </tr>\n",
       "    <tr>\n",
       "      <th>44</th>\n",
       "      <td>2020</td>\n",
       "      <td>9</td>\n",
       "      <td>484</td>\n",
       "      <td>484</td>\n",
       "      <td>2020-09-30</td>\n",
       "    </tr>\n",
       "    <tr>\n",
       "      <th>45</th>\n",
       "      <td>2020</td>\n",
       "      <td>10</td>\n",
       "      <td>365</td>\n",
       "      <td>365</td>\n",
       "      <td>2020-10-31</td>\n",
       "    </tr>\n",
       "  </tbody>\n",
       "</table>\n",
       "</div>"
      ],
      "text/plain": [
       "    Year  Month  Incidents  Victims     x_axis\n",
       "36  2020      1        623      623 2020-01-31\n",
       "37  2020      2        659      659 2020-02-29\n",
       "38  2020      3        572      572 2020-03-31\n",
       "39  2020      4        274      274 2020-04-30\n",
       "40  2020      5        446      446 2020-05-31\n",
       "41  2020      6        381      381 2020-06-30\n",
       "42  2020      7        480      480 2020-07-31\n",
       "43  2020      8        488      488 2020-08-31\n",
       "44  2020      9        484      484 2020-09-30\n",
       "45  2020     10        365      365 2020-10-31"
      ]
     },
     "execution_count": 48,
     "metadata": {},
     "output_type": "execute_result"
    }
   ],
   "source": [
    "monthly_20"
   ]
  },
  {
   "cell_type": "code",
   "execution_count": 49,
   "metadata": {
    "id": "oea5DlNQAoCn"
   },
   "outputs": [],
   "source": [
    "monthly_20 = monthly_20[['Year', 'Month', 'Incidents']]"
   ]
  },
  {
   "cell_type": "code",
   "execution_count": 50,
   "metadata": {
    "id": "Q5ddATnxAoCp"
   },
   "outputs": [],
   "source": [
    "monthly_20.columns = ['Year', 'Month', 'Incidents_20']"
   ]
  },
  {
   "cell_type": "code",
   "execution_count": 51,
   "metadata": {
    "id": "Bav_HSGUAoCr"
   },
   "outputs": [],
   "source": [
    "monthly_20 = monthly_20[['Month', 'Incidents_20']]"
   ]
  },
  {
   "cell_type": "code",
   "execution_count": 52,
   "metadata": {
    "colab": {
     "base_uri": "https://localhost:8080/",
     "height": 359
    },
    "id": "TtkGt0SUAoCu",
    "outputId": "9b0bed1e-a71c-4f64-9a45-1ad4c068e949"
   },
   "outputs": [
    {
     "data": {
      "text/html": [
       "<div>\n",
       "<style scoped>\n",
       "    .dataframe tbody tr th:only-of-type {\n",
       "        vertical-align: middle;\n",
       "    }\n",
       "\n",
       "    .dataframe tbody tr th {\n",
       "        vertical-align: top;\n",
       "    }\n",
       "\n",
       "    .dataframe thead th {\n",
       "        text-align: right;\n",
       "    }\n",
       "</style>\n",
       "<table border=\"1\" class=\"dataframe\">\n",
       "  <thead>\n",
       "    <tr style=\"text-align: right;\">\n",
       "      <th></th>\n",
       "      <th>Month</th>\n",
       "      <th>Incidents_20</th>\n",
       "    </tr>\n",
       "  </thead>\n",
       "  <tbody>\n",
       "    <tr>\n",
       "      <th>36</th>\n",
       "      <td>1</td>\n",
       "      <td>623</td>\n",
       "    </tr>\n",
       "    <tr>\n",
       "      <th>37</th>\n",
       "      <td>2</td>\n",
       "      <td>659</td>\n",
       "    </tr>\n",
       "    <tr>\n",
       "      <th>38</th>\n",
       "      <td>3</td>\n",
       "      <td>572</td>\n",
       "    </tr>\n",
       "    <tr>\n",
       "      <th>39</th>\n",
       "      <td>4</td>\n",
       "      <td>274</td>\n",
       "    </tr>\n",
       "    <tr>\n",
       "      <th>40</th>\n",
       "      <td>5</td>\n",
       "      <td>446</td>\n",
       "    </tr>\n",
       "    <tr>\n",
       "      <th>41</th>\n",
       "      <td>6</td>\n",
       "      <td>381</td>\n",
       "    </tr>\n",
       "    <tr>\n",
       "      <th>42</th>\n",
       "      <td>7</td>\n",
       "      <td>480</td>\n",
       "    </tr>\n",
       "    <tr>\n",
       "      <th>43</th>\n",
       "      <td>8</td>\n",
       "      <td>488</td>\n",
       "    </tr>\n",
       "    <tr>\n",
       "      <th>44</th>\n",
       "      <td>9</td>\n",
       "      <td>484</td>\n",
       "    </tr>\n",
       "    <tr>\n",
       "      <th>45</th>\n",
       "      <td>10</td>\n",
       "      <td>365</td>\n",
       "    </tr>\n",
       "  </tbody>\n",
       "</table>\n",
       "</div>"
      ],
      "text/plain": [
       "    Month  Incidents_20\n",
       "36      1           623\n",
       "37      2           659\n",
       "38      3           572\n",
       "39      4           274\n",
       "40      5           446\n",
       "41      6           381\n",
       "42      7           480\n",
       "43      8           488\n",
       "44      9           484\n",
       "45     10           365"
      ]
     },
     "execution_count": 52,
     "metadata": {},
     "output_type": "execute_result"
    }
   ],
   "source": [
    "monthly_20"
   ]
  },
  {
   "cell_type": "code",
   "execution_count": 53,
   "metadata": {
    "id": "KBJXlJ9cAoCv"
   },
   "outputs": [],
   "source": [
    "a1 = avg.merge(monthly_20)"
   ]
  },
  {
   "cell_type": "code",
   "execution_count": 54,
   "metadata": {
    "colab": {
     "base_uri": "https://localhost:8080/",
     "height": 359
    },
    "id": "QGtMLIx0AoCx",
    "outputId": "5a285228-3010-411f-d2b4-819a4d80c0bf"
   },
   "outputs": [
    {
     "data": {
      "text/html": [
       "<div>\n",
       "<style scoped>\n",
       "    .dataframe tbody tr th:only-of-type {\n",
       "        vertical-align: middle;\n",
       "    }\n",
       "\n",
       "    .dataframe tbody tr th {\n",
       "        vertical-align: top;\n",
       "    }\n",
       "\n",
       "    .dataframe thead th {\n",
       "        text-align: right;\n",
       "    }\n",
       "</style>\n",
       "<table border=\"1\" class=\"dataframe\">\n",
       "  <thead>\n",
       "    <tr style=\"text-align: right;\">\n",
       "      <th></th>\n",
       "      <th>Month</th>\n",
       "      <th>Mean</th>\n",
       "      <th>Incidents_20</th>\n",
       "    </tr>\n",
       "  </thead>\n",
       "  <tbody>\n",
       "    <tr>\n",
       "      <th>0</th>\n",
       "      <td>1</td>\n",
       "      <td>770.666667</td>\n",
       "      <td>623</td>\n",
       "    </tr>\n",
       "    <tr>\n",
       "      <th>1</th>\n",
       "      <td>2</td>\n",
       "      <td>695.666667</td>\n",
       "      <td>659</td>\n",
       "    </tr>\n",
       "    <tr>\n",
       "      <th>2</th>\n",
       "      <td>3</td>\n",
       "      <td>803.333333</td>\n",
       "      <td>572</td>\n",
       "    </tr>\n",
       "    <tr>\n",
       "      <th>3</th>\n",
       "      <td>4</td>\n",
       "      <td>777.000000</td>\n",
       "      <td>274</td>\n",
       "    </tr>\n",
       "    <tr>\n",
       "      <th>4</th>\n",
       "      <td>5</td>\n",
       "      <td>769.666667</td>\n",
       "      <td>446</td>\n",
       "    </tr>\n",
       "    <tr>\n",
       "      <th>5</th>\n",
       "      <td>6</td>\n",
       "      <td>734.333333</td>\n",
       "      <td>381</td>\n",
       "    </tr>\n",
       "    <tr>\n",
       "      <th>6</th>\n",
       "      <td>7</td>\n",
       "      <td>737.333333</td>\n",
       "      <td>480</td>\n",
       "    </tr>\n",
       "    <tr>\n",
       "      <th>7</th>\n",
       "      <td>8</td>\n",
       "      <td>734.666667</td>\n",
       "      <td>488</td>\n",
       "    </tr>\n",
       "    <tr>\n",
       "      <th>8</th>\n",
       "      <td>9</td>\n",
       "      <td>700.666667</td>\n",
       "      <td>484</td>\n",
       "    </tr>\n",
       "    <tr>\n",
       "      <th>9</th>\n",
       "      <td>10</td>\n",
       "      <td>776.333333</td>\n",
       "      <td>365</td>\n",
       "    </tr>\n",
       "  </tbody>\n",
       "</table>\n",
       "</div>"
      ],
      "text/plain": [
       "   Month        Mean  Incidents_20\n",
       "0      1  770.666667           623\n",
       "1      2  695.666667           659\n",
       "2      3  803.333333           572\n",
       "3      4  777.000000           274\n",
       "4      5  769.666667           446\n",
       "5      6  734.333333           381\n",
       "6      7  737.333333           480\n",
       "7      8  734.666667           488\n",
       "8      9  700.666667           484\n",
       "9     10  776.333333           365"
      ]
     },
     "execution_count": 54,
     "metadata": {},
     "output_type": "execute_result"
    }
   ],
   "source": [
    "a1"
   ]
  },
  {
   "cell_type": "code",
   "execution_count": 55,
   "metadata": {
    "id": "dkJEgCXUAoC1"
   },
   "outputs": [],
   "source": [
    "monthly_19 = monthly[monthly['Year']==2019]"
   ]
  },
  {
   "cell_type": "code",
   "execution_count": 56,
   "metadata": {
    "colab": {
     "base_uri": "https://localhost:8080/",
     "height": 421
    },
    "id": "WD9gCCY9AoC3",
    "outputId": "cc8c8d48-0e69-487d-b801-4b0308bb7db2"
   },
   "outputs": [
    {
     "data": {
      "text/html": [
       "<div>\n",
       "<style scoped>\n",
       "    .dataframe tbody tr th:only-of-type {\n",
       "        vertical-align: middle;\n",
       "    }\n",
       "\n",
       "    .dataframe tbody tr th {\n",
       "        vertical-align: top;\n",
       "    }\n",
       "\n",
       "    .dataframe thead th {\n",
       "        text-align: right;\n",
       "    }\n",
       "</style>\n",
       "<table border=\"1\" class=\"dataframe\">\n",
       "  <thead>\n",
       "    <tr style=\"text-align: right;\">\n",
       "      <th></th>\n",
       "      <th>Year</th>\n",
       "      <th>Month</th>\n",
       "      <th>Incidents</th>\n",
       "      <th>Victims</th>\n",
       "      <th>x_axis</th>\n",
       "    </tr>\n",
       "  </thead>\n",
       "  <tbody>\n",
       "    <tr>\n",
       "      <th>24</th>\n",
       "      <td>2019</td>\n",
       "      <td>1</td>\n",
       "      <td>668</td>\n",
       "      <td>668</td>\n",
       "      <td>2019-01-31</td>\n",
       "    </tr>\n",
       "    <tr>\n",
       "      <th>25</th>\n",
       "      <td>2019</td>\n",
       "      <td>2</td>\n",
       "      <td>611</td>\n",
       "      <td>611</td>\n",
       "      <td>2019-02-28</td>\n",
       "    </tr>\n",
       "    <tr>\n",
       "      <th>26</th>\n",
       "      <td>2019</td>\n",
       "      <td>3</td>\n",
       "      <td>825</td>\n",
       "      <td>825</td>\n",
       "      <td>2019-03-31</td>\n",
       "    </tr>\n",
       "    <tr>\n",
       "      <th>27</th>\n",
       "      <td>2019</td>\n",
       "      <td>4</td>\n",
       "      <td>753</td>\n",
       "      <td>753</td>\n",
       "      <td>2019-04-30</td>\n",
       "    </tr>\n",
       "    <tr>\n",
       "      <th>28</th>\n",
       "      <td>2019</td>\n",
       "      <td>5</td>\n",
       "      <td>743</td>\n",
       "      <td>743</td>\n",
       "      <td>2019-05-31</td>\n",
       "    </tr>\n",
       "    <tr>\n",
       "      <th>29</th>\n",
       "      <td>2019</td>\n",
       "      <td>6</td>\n",
       "      <td>603</td>\n",
       "      <td>603</td>\n",
       "      <td>2019-06-30</td>\n",
       "    </tr>\n",
       "    <tr>\n",
       "      <th>30</th>\n",
       "      <td>2019</td>\n",
       "      <td>7</td>\n",
       "      <td>671</td>\n",
       "      <td>671</td>\n",
       "      <td>2019-07-31</td>\n",
       "    </tr>\n",
       "    <tr>\n",
       "      <th>31</th>\n",
       "      <td>2019</td>\n",
       "      <td>8</td>\n",
       "      <td>575</td>\n",
       "      <td>575</td>\n",
       "      <td>2019-08-31</td>\n",
       "    </tr>\n",
       "    <tr>\n",
       "      <th>32</th>\n",
       "      <td>2019</td>\n",
       "      <td>9</td>\n",
       "      <td>612</td>\n",
       "      <td>612</td>\n",
       "      <td>2019-09-30</td>\n",
       "    </tr>\n",
       "    <tr>\n",
       "      <th>33</th>\n",
       "      <td>2019</td>\n",
       "      <td>10</td>\n",
       "      <td>689</td>\n",
       "      <td>689</td>\n",
       "      <td>2019-10-31</td>\n",
       "    </tr>\n",
       "    <tr>\n",
       "      <th>34</th>\n",
       "      <td>2019</td>\n",
       "      <td>11</td>\n",
       "      <td>678</td>\n",
       "      <td>678</td>\n",
       "      <td>2019-11-30</td>\n",
       "    </tr>\n",
       "    <tr>\n",
       "      <th>35</th>\n",
       "      <td>2019</td>\n",
       "      <td>12</td>\n",
       "      <td>584</td>\n",
       "      <td>584</td>\n",
       "      <td>2019-12-31</td>\n",
       "    </tr>\n",
       "  </tbody>\n",
       "</table>\n",
       "</div>"
      ],
      "text/plain": [
       "    Year  Month  Incidents  Victims     x_axis\n",
       "24  2019      1        668      668 2019-01-31\n",
       "25  2019      2        611      611 2019-02-28\n",
       "26  2019      3        825      825 2019-03-31\n",
       "27  2019      4        753      753 2019-04-30\n",
       "28  2019      5        743      743 2019-05-31\n",
       "29  2019      6        603      603 2019-06-30\n",
       "30  2019      7        671      671 2019-07-31\n",
       "31  2019      8        575      575 2019-08-31\n",
       "32  2019      9        612      612 2019-09-30\n",
       "33  2019     10        689      689 2019-10-31\n",
       "34  2019     11        678      678 2019-11-30\n",
       "35  2019     12        584      584 2019-12-31"
      ]
     },
     "execution_count": 56,
     "metadata": {},
     "output_type": "execute_result"
    }
   ],
   "source": [
    "monthly_19"
   ]
  },
  {
   "cell_type": "code",
   "execution_count": 57,
   "metadata": {
    "id": "eRwpIZ42AoC7"
   },
   "outputs": [],
   "source": [
    "monthly_19 = monthly_19[['Year', 'Month', 'Incidents']]"
   ]
  },
  {
   "cell_type": "code",
   "execution_count": 58,
   "metadata": {
    "id": "ZjxKhRzRAoC8"
   },
   "outputs": [],
   "source": [
    "monthly_19.columns = ['Year', 'Month', 'Incidents_19']"
   ]
  },
  {
   "cell_type": "code",
   "execution_count": 59,
   "metadata": {
    "id": "1xWfnnCMAoC-"
   },
   "outputs": [],
   "source": [
    "monthly_19 = monthly_19[['Month', 'Incidents_19']]"
   ]
  },
  {
   "cell_type": "code",
   "execution_count": 60,
   "metadata": {
    "colab": {
     "base_uri": "https://localhost:8080/",
     "height": 421
    },
    "id": "NY8D1gZRAoDA",
    "outputId": "887a0105-a18c-4f1b-e0ba-3cba0009beea"
   },
   "outputs": [
    {
     "data": {
      "text/html": [
       "<div>\n",
       "<style scoped>\n",
       "    .dataframe tbody tr th:only-of-type {\n",
       "        vertical-align: middle;\n",
       "    }\n",
       "\n",
       "    .dataframe tbody tr th {\n",
       "        vertical-align: top;\n",
       "    }\n",
       "\n",
       "    .dataframe thead th {\n",
       "        text-align: right;\n",
       "    }\n",
       "</style>\n",
       "<table border=\"1\" class=\"dataframe\">\n",
       "  <thead>\n",
       "    <tr style=\"text-align: right;\">\n",
       "      <th></th>\n",
       "      <th>Month</th>\n",
       "      <th>Incidents_19</th>\n",
       "    </tr>\n",
       "  </thead>\n",
       "  <tbody>\n",
       "    <tr>\n",
       "      <th>24</th>\n",
       "      <td>1</td>\n",
       "      <td>668</td>\n",
       "    </tr>\n",
       "    <tr>\n",
       "      <th>25</th>\n",
       "      <td>2</td>\n",
       "      <td>611</td>\n",
       "    </tr>\n",
       "    <tr>\n",
       "      <th>26</th>\n",
       "      <td>3</td>\n",
       "      <td>825</td>\n",
       "    </tr>\n",
       "    <tr>\n",
       "      <th>27</th>\n",
       "      <td>4</td>\n",
       "      <td>753</td>\n",
       "    </tr>\n",
       "    <tr>\n",
       "      <th>28</th>\n",
       "      <td>5</td>\n",
       "      <td>743</td>\n",
       "    </tr>\n",
       "    <tr>\n",
       "      <th>29</th>\n",
       "      <td>6</td>\n",
       "      <td>603</td>\n",
       "    </tr>\n",
       "    <tr>\n",
       "      <th>30</th>\n",
       "      <td>7</td>\n",
       "      <td>671</td>\n",
       "    </tr>\n",
       "    <tr>\n",
       "      <th>31</th>\n",
       "      <td>8</td>\n",
       "      <td>575</td>\n",
       "    </tr>\n",
       "    <tr>\n",
       "      <th>32</th>\n",
       "      <td>9</td>\n",
       "      <td>612</td>\n",
       "    </tr>\n",
       "    <tr>\n",
       "      <th>33</th>\n",
       "      <td>10</td>\n",
       "      <td>689</td>\n",
       "    </tr>\n",
       "    <tr>\n",
       "      <th>34</th>\n",
       "      <td>11</td>\n",
       "      <td>678</td>\n",
       "    </tr>\n",
       "    <tr>\n",
       "      <th>35</th>\n",
       "      <td>12</td>\n",
       "      <td>584</td>\n",
       "    </tr>\n",
       "  </tbody>\n",
       "</table>\n",
       "</div>"
      ],
      "text/plain": [
       "    Month  Incidents_19\n",
       "24      1           668\n",
       "25      2           611\n",
       "26      3           825\n",
       "27      4           753\n",
       "28      5           743\n",
       "29      6           603\n",
       "30      7           671\n",
       "31      8           575\n",
       "32      9           612\n",
       "33     10           689\n",
       "34     11           678\n",
       "35     12           584"
      ]
     },
     "execution_count": 60,
     "metadata": {},
     "output_type": "execute_result"
    }
   ],
   "source": [
    "monthly_19"
   ]
  },
  {
   "cell_type": "code",
   "execution_count": 61,
   "metadata": {
    "id": "8Y1LnmZ0AoDB"
   },
   "outputs": [],
   "source": [
    "a1 = a1.merge(monthly_19)"
   ]
  },
  {
   "cell_type": "code",
   "execution_count": 62,
   "metadata": {
    "colab": {
     "base_uri": "https://localhost:8080/",
     "height": 359
    },
    "id": "oFa-UdIzAoDF",
    "outputId": "2a87a874-4f72-4057-c46d-7b6f3f4c505b"
   },
   "outputs": [
    {
     "data": {
      "text/html": [
       "<div>\n",
       "<style scoped>\n",
       "    .dataframe tbody tr th:only-of-type {\n",
       "        vertical-align: middle;\n",
       "    }\n",
       "\n",
       "    .dataframe tbody tr th {\n",
       "        vertical-align: top;\n",
       "    }\n",
       "\n",
       "    .dataframe thead th {\n",
       "        text-align: right;\n",
       "    }\n",
       "</style>\n",
       "<table border=\"1\" class=\"dataframe\">\n",
       "  <thead>\n",
       "    <tr style=\"text-align: right;\">\n",
       "      <th></th>\n",
       "      <th>Month</th>\n",
       "      <th>Mean</th>\n",
       "      <th>Incidents_20</th>\n",
       "      <th>Incidents_19</th>\n",
       "    </tr>\n",
       "  </thead>\n",
       "  <tbody>\n",
       "    <tr>\n",
       "      <th>0</th>\n",
       "      <td>1</td>\n",
       "      <td>770.666667</td>\n",
       "      <td>623</td>\n",
       "      <td>668</td>\n",
       "    </tr>\n",
       "    <tr>\n",
       "      <th>1</th>\n",
       "      <td>2</td>\n",
       "      <td>695.666667</td>\n",
       "      <td>659</td>\n",
       "      <td>611</td>\n",
       "    </tr>\n",
       "    <tr>\n",
       "      <th>2</th>\n",
       "      <td>3</td>\n",
       "      <td>803.333333</td>\n",
       "      <td>572</td>\n",
       "      <td>825</td>\n",
       "    </tr>\n",
       "    <tr>\n",
       "      <th>3</th>\n",
       "      <td>4</td>\n",
       "      <td>777.000000</td>\n",
       "      <td>274</td>\n",
       "      <td>753</td>\n",
       "    </tr>\n",
       "    <tr>\n",
       "      <th>4</th>\n",
       "      <td>5</td>\n",
       "      <td>769.666667</td>\n",
       "      <td>446</td>\n",
       "      <td>743</td>\n",
       "    </tr>\n",
       "    <tr>\n",
       "      <th>5</th>\n",
       "      <td>6</td>\n",
       "      <td>734.333333</td>\n",
       "      <td>381</td>\n",
       "      <td>603</td>\n",
       "    </tr>\n",
       "    <tr>\n",
       "      <th>6</th>\n",
       "      <td>7</td>\n",
       "      <td>737.333333</td>\n",
       "      <td>480</td>\n",
       "      <td>671</td>\n",
       "    </tr>\n",
       "    <tr>\n",
       "      <th>7</th>\n",
       "      <td>8</td>\n",
       "      <td>734.666667</td>\n",
       "      <td>488</td>\n",
       "      <td>575</td>\n",
       "    </tr>\n",
       "    <tr>\n",
       "      <th>8</th>\n",
       "      <td>9</td>\n",
       "      <td>700.666667</td>\n",
       "      <td>484</td>\n",
       "      <td>612</td>\n",
       "    </tr>\n",
       "    <tr>\n",
       "      <th>9</th>\n",
       "      <td>10</td>\n",
       "      <td>776.333333</td>\n",
       "      <td>365</td>\n",
       "      <td>689</td>\n",
       "    </tr>\n",
       "  </tbody>\n",
       "</table>\n",
       "</div>"
      ],
      "text/plain": [
       "   Month        Mean  Incidents_20  Incidents_19\n",
       "0      1  770.666667           623           668\n",
       "1      2  695.666667           659           611\n",
       "2      3  803.333333           572           825\n",
       "3      4  777.000000           274           753\n",
       "4      5  769.666667           446           743\n",
       "5      6  734.333333           381           603\n",
       "6      7  737.333333           480           671\n",
       "7      8  734.666667           488           575\n",
       "8      9  700.666667           484           612\n",
       "9     10  776.333333           365           689"
      ]
     },
     "execution_count": 62,
     "metadata": {},
     "output_type": "execute_result"
    }
   ],
   "source": [
    "a1"
   ]
  },
  {
   "cell_type": "code",
   "execution_count": 63,
   "metadata": {
    "id": "qrstCnKgAoDG"
   },
   "outputs": [],
   "source": [
    "a1['Change_Against_Mean'] = np.round(((-a1['Mean']+a1['Incidents_20'])/a1['Mean'])*100, 1)"
   ]
  },
  {
   "cell_type": "code",
   "execution_count": 64,
   "metadata": {
    "colab": {
     "base_uri": "https://localhost:8080/",
     "height": 359
    },
    "id": "6QchyNo8AoDI",
    "outputId": "d0469308-c2b2-4066-a641-497b5ef3a8d1"
   },
   "outputs": [
    {
     "data": {
      "text/html": [
       "<div>\n",
       "<style scoped>\n",
       "    .dataframe tbody tr th:only-of-type {\n",
       "        vertical-align: middle;\n",
       "    }\n",
       "\n",
       "    .dataframe tbody tr th {\n",
       "        vertical-align: top;\n",
       "    }\n",
       "\n",
       "    .dataframe thead th {\n",
       "        text-align: right;\n",
       "    }\n",
       "</style>\n",
       "<table border=\"1\" class=\"dataframe\">\n",
       "  <thead>\n",
       "    <tr style=\"text-align: right;\">\n",
       "      <th></th>\n",
       "      <th>Month</th>\n",
       "      <th>Mean</th>\n",
       "      <th>Incidents_20</th>\n",
       "      <th>Incidents_19</th>\n",
       "      <th>Change_Against_Mean</th>\n",
       "    </tr>\n",
       "  </thead>\n",
       "  <tbody>\n",
       "    <tr>\n",
       "      <th>0</th>\n",
       "      <td>1</td>\n",
       "      <td>770.666667</td>\n",
       "      <td>623</td>\n",
       "      <td>668</td>\n",
       "      <td>-19.2</td>\n",
       "    </tr>\n",
       "    <tr>\n",
       "      <th>1</th>\n",
       "      <td>2</td>\n",
       "      <td>695.666667</td>\n",
       "      <td>659</td>\n",
       "      <td>611</td>\n",
       "      <td>-5.3</td>\n",
       "    </tr>\n",
       "    <tr>\n",
       "      <th>2</th>\n",
       "      <td>3</td>\n",
       "      <td>803.333333</td>\n",
       "      <td>572</td>\n",
       "      <td>825</td>\n",
       "      <td>-28.8</td>\n",
       "    </tr>\n",
       "    <tr>\n",
       "      <th>3</th>\n",
       "      <td>4</td>\n",
       "      <td>777.000000</td>\n",
       "      <td>274</td>\n",
       "      <td>753</td>\n",
       "      <td>-64.7</td>\n",
       "    </tr>\n",
       "    <tr>\n",
       "      <th>4</th>\n",
       "      <td>5</td>\n",
       "      <td>769.666667</td>\n",
       "      <td>446</td>\n",
       "      <td>743</td>\n",
       "      <td>-42.1</td>\n",
       "    </tr>\n",
       "    <tr>\n",
       "      <th>5</th>\n",
       "      <td>6</td>\n",
       "      <td>734.333333</td>\n",
       "      <td>381</td>\n",
       "      <td>603</td>\n",
       "      <td>-48.1</td>\n",
       "    </tr>\n",
       "    <tr>\n",
       "      <th>6</th>\n",
       "      <td>7</td>\n",
       "      <td>737.333333</td>\n",
       "      <td>480</td>\n",
       "      <td>671</td>\n",
       "      <td>-34.9</td>\n",
       "    </tr>\n",
       "    <tr>\n",
       "      <th>7</th>\n",
       "      <td>8</td>\n",
       "      <td>734.666667</td>\n",
       "      <td>488</td>\n",
       "      <td>575</td>\n",
       "      <td>-33.6</td>\n",
       "    </tr>\n",
       "    <tr>\n",
       "      <th>8</th>\n",
       "      <td>9</td>\n",
       "      <td>700.666667</td>\n",
       "      <td>484</td>\n",
       "      <td>612</td>\n",
       "      <td>-30.9</td>\n",
       "    </tr>\n",
       "    <tr>\n",
       "      <th>9</th>\n",
       "      <td>10</td>\n",
       "      <td>776.333333</td>\n",
       "      <td>365</td>\n",
       "      <td>689</td>\n",
       "      <td>-53.0</td>\n",
       "    </tr>\n",
       "  </tbody>\n",
       "</table>\n",
       "</div>"
      ],
      "text/plain": [
       "   Month        Mean  Incidents_20  Incidents_19  Change_Against_Mean\n",
       "0      1  770.666667           623           668                -19.2\n",
       "1      2  695.666667           659           611                 -5.3\n",
       "2      3  803.333333           572           825                -28.8\n",
       "3      4  777.000000           274           753                -64.7\n",
       "4      5  769.666667           446           743                -42.1\n",
       "5      6  734.333333           381           603                -48.1\n",
       "6      7  737.333333           480           671                -34.9\n",
       "7      8  734.666667           488           575                -33.6\n",
       "8      9  700.666667           484           612                -30.9\n",
       "9     10  776.333333           365           689                -53.0"
      ]
     },
     "execution_count": 64,
     "metadata": {},
     "output_type": "execute_result"
    }
   ],
   "source": [
    "a1"
   ]
  },
  {
   "cell_type": "code",
   "execution_count": 65,
   "metadata": {
    "id": "sg6u09LDAoDJ"
   },
   "outputs": [],
   "source": [
    "a1['Change_Against_2019'] = np.round(((-a1['Incidents_19']+a1['Incidents_20'])/a1['Incidents_19'])*100, 1)"
   ]
  },
  {
   "cell_type": "code",
   "execution_count": 66,
   "metadata": {
    "colab": {
     "base_uri": "https://localhost:8080/",
     "height": 359
    },
    "id": "JddKM_W9AoDL",
    "outputId": "ade0154b-6b7c-46cb-c2ab-65fa886db0e9"
   },
   "outputs": [
    {
     "data": {
      "text/html": [
       "<div>\n",
       "<style scoped>\n",
       "    .dataframe tbody tr th:only-of-type {\n",
       "        vertical-align: middle;\n",
       "    }\n",
       "\n",
       "    .dataframe tbody tr th {\n",
       "        vertical-align: top;\n",
       "    }\n",
       "\n",
       "    .dataframe thead th {\n",
       "        text-align: right;\n",
       "    }\n",
       "</style>\n",
       "<table border=\"1\" class=\"dataframe\">\n",
       "  <thead>\n",
       "    <tr style=\"text-align: right;\">\n",
       "      <th></th>\n",
       "      <th>Month</th>\n",
       "      <th>Mean</th>\n",
       "      <th>Incidents_20</th>\n",
       "      <th>Incidents_19</th>\n",
       "      <th>Change_Against_Mean</th>\n",
       "      <th>Change_Against_2019</th>\n",
       "    </tr>\n",
       "  </thead>\n",
       "  <tbody>\n",
       "    <tr>\n",
       "      <th>0</th>\n",
       "      <td>1</td>\n",
       "      <td>770.666667</td>\n",
       "      <td>623</td>\n",
       "      <td>668</td>\n",
       "      <td>-19.2</td>\n",
       "      <td>-6.7</td>\n",
       "    </tr>\n",
       "    <tr>\n",
       "      <th>1</th>\n",
       "      <td>2</td>\n",
       "      <td>695.666667</td>\n",
       "      <td>659</td>\n",
       "      <td>611</td>\n",
       "      <td>-5.3</td>\n",
       "      <td>7.9</td>\n",
       "    </tr>\n",
       "    <tr>\n",
       "      <th>2</th>\n",
       "      <td>3</td>\n",
       "      <td>803.333333</td>\n",
       "      <td>572</td>\n",
       "      <td>825</td>\n",
       "      <td>-28.8</td>\n",
       "      <td>-30.7</td>\n",
       "    </tr>\n",
       "    <tr>\n",
       "      <th>3</th>\n",
       "      <td>4</td>\n",
       "      <td>777.000000</td>\n",
       "      <td>274</td>\n",
       "      <td>753</td>\n",
       "      <td>-64.7</td>\n",
       "      <td>-63.6</td>\n",
       "    </tr>\n",
       "    <tr>\n",
       "      <th>4</th>\n",
       "      <td>5</td>\n",
       "      <td>769.666667</td>\n",
       "      <td>446</td>\n",
       "      <td>743</td>\n",
       "      <td>-42.1</td>\n",
       "      <td>-40.0</td>\n",
       "    </tr>\n",
       "    <tr>\n",
       "      <th>5</th>\n",
       "      <td>6</td>\n",
       "      <td>734.333333</td>\n",
       "      <td>381</td>\n",
       "      <td>603</td>\n",
       "      <td>-48.1</td>\n",
       "      <td>-36.8</td>\n",
       "    </tr>\n",
       "    <tr>\n",
       "      <th>6</th>\n",
       "      <td>7</td>\n",
       "      <td>737.333333</td>\n",
       "      <td>480</td>\n",
       "      <td>671</td>\n",
       "      <td>-34.9</td>\n",
       "      <td>-28.5</td>\n",
       "    </tr>\n",
       "    <tr>\n",
       "      <th>7</th>\n",
       "      <td>8</td>\n",
       "      <td>734.666667</td>\n",
       "      <td>488</td>\n",
       "      <td>575</td>\n",
       "      <td>-33.6</td>\n",
       "      <td>-15.1</td>\n",
       "    </tr>\n",
       "    <tr>\n",
       "      <th>8</th>\n",
       "      <td>9</td>\n",
       "      <td>700.666667</td>\n",
       "      <td>484</td>\n",
       "      <td>612</td>\n",
       "      <td>-30.9</td>\n",
       "      <td>-20.9</td>\n",
       "    </tr>\n",
       "    <tr>\n",
       "      <th>9</th>\n",
       "      <td>10</td>\n",
       "      <td>776.333333</td>\n",
       "      <td>365</td>\n",
       "      <td>689</td>\n",
       "      <td>-53.0</td>\n",
       "      <td>-47.0</td>\n",
       "    </tr>\n",
       "  </tbody>\n",
       "</table>\n",
       "</div>"
      ],
      "text/plain": [
       "   Month        Mean  Incidents_20  Incidents_19  Change_Against_Mean  \\\n",
       "0      1  770.666667           623           668                -19.2   \n",
       "1      2  695.666667           659           611                 -5.3   \n",
       "2      3  803.333333           572           825                -28.8   \n",
       "3      4  777.000000           274           753                -64.7   \n",
       "4      5  769.666667           446           743                -42.1   \n",
       "5      6  734.333333           381           603                -48.1   \n",
       "6      7  737.333333           480           671                -34.9   \n",
       "7      8  734.666667           488           575                -33.6   \n",
       "8      9  700.666667           484           612                -30.9   \n",
       "9     10  776.333333           365           689                -53.0   \n",
       "\n",
       "   Change_Against_2019  \n",
       "0                 -6.7  \n",
       "1                  7.9  \n",
       "2                -30.7  \n",
       "3                -63.6  \n",
       "4                -40.0  \n",
       "5                -36.8  \n",
       "6                -28.5  \n",
       "7                -15.1  \n",
       "8                -20.9  \n",
       "9                -47.0  "
      ]
     },
     "execution_count": 66,
     "metadata": {},
     "output_type": "execute_result"
    }
   ],
   "source": [
    "a1"
   ]
  },
  {
   "cell_type": "code",
   "execution_count": 67,
   "metadata": {
    "colab": {
     "base_uri": "https://localhost:8080/",
     "height": 522
    },
    "id": "dD0COX-sAoDM",
    "outputId": "f0aeb400-e2bf-41bc-a27a-641b9c77d84e"
   },
   "outputs": [
    {
     "data": {
      "image/png": "[encoded data removed]",
      "text/plain": [
       "<Figure size 864x576 with 1 Axes>"
      ]
     },
     "metadata": {},
     "output_type": "display_data"
    }
   ],
   "source": [
    "sns.set(context = 'paper', rc={'figure.figsize':(12,8), 'figure.facecolor':'white', 'axes.facecolor':'lightgray', 'axes.labelcolor':'blue'}, font_scale=1.5)\n",
    "g2 = sns.lineplot(x='Month', y='Change_Against_2019', data=a1)\n",
    "plt.title('Change in Crimes (in %) in 2020 Against 2019')\n",
    "plt.ylabel('Change in %')\n",
    "plt.axhline(0, ls='dashed')\n",
    "plt.savefig('CrimesMoco2.png')"
   ]
  },
  {
   "cell_type": "markdown",
   "metadata": {
    "id": "syf2gBCMXxAP"
   },
   "source": [
    "# <center> Plots for categorical variables </center>"
   ]
  },
  {
   "cell_type": "code",
   "execution_count": 68,
   "metadata": {
    "id": "RFKx8iyWH-qZ"
   },
   "outputs": [],
   "source": [
    "crime_2 = crime.copy()"
   ]
  },
  {
   "cell_type": "code",
   "execution_count": 69,
   "metadata": {
    "id": "tyoNB5zxVqEO"
   },
   "outputs": [],
   "source": [
    "mpl.rc_file_defaults()"
   ]
  },
  {
   "cell_type": "code",
   "execution_count": 70,
   "metadata": {
    "colab": {
     "base_uri": "https://localhost:8080/"
    },
    "id": "Iun2pHIxOO6B",
    "outputId": "9a349054-870d-4389-f4e4-25fda8909bbf"
   },
   "outputs": [
    {
     "name": "stderr",
     "output_type": "stream",
     "text": [
      "C:\\Users\\Tu\\anaconda3\\lib\\site-packages\\ipykernel_launcher.py:2: MatplotlibDeprecationWarning: \n",
      "The examples.directory rcparam was deprecated in Matplotlib 3.0 and will be removed in 3.2. In the future, examples will be found relative to the 'datapath' directory.\n",
      "  \n",
      "C:\\Users\\Tu\\anaconda3\\lib\\_collections_abc.py:841: MatplotlibDeprecationWarning: \n",
      "The examples.directory rcparam was deprecated in Matplotlib 3.0 and will be removed in 3.2. In the future, examples will be found relative to the 'datapath' directory.\n",
      "  self[key] = other[key]\n",
      "C:\\Users\\Tu\\anaconda3\\lib\\_collections_abc.py:841: MatplotlibDeprecationWarning: \n",
      "The savefig.frameon rcparam was deprecated in Matplotlib 3.1 and will be removed in 3.3.\n",
      "  self[key] = other[key]\n",
      "C:\\Users\\Tu\\anaconda3\\lib\\_collections_abc.py:841: MatplotlibDeprecationWarning: \n",
      "The text.latex.unicode rcparam was deprecated in Matplotlib 3.0 and will be removed in 3.2.\n",
      "  self[key] = other[key]\n",
      "C:\\Users\\Tu\\anaconda3\\lib\\_collections_abc.py:841: MatplotlibDeprecationWarning: \n",
      "The verbose.fileo rcparam was deprecated in Matplotlib 3.1 and will be removed in 3.3.\n",
      "  self[key] = other[key]\n",
      "C:\\Users\\Tu\\anaconda3\\lib\\_collections_abc.py:841: MatplotlibDeprecationWarning: \n",
      "The verbose.level rcparam was deprecated in Matplotlib 3.1 and will be removed in 3.3.\n",
      "  self[key] = other[key]\n"
     ]
    }
   ],
   "source": [
    "%matplotlib inline\n",
    "inline_rc = dict(mpl.rcParams)\n",
    "mpl.rcParams.update(inline_rc)"
   ]
  },
  {
   "cell_type": "code",
   "execution_count": 71,
   "metadata": {
    "colab": {
     "base_uri": "https://localhost:8080/",
     "height": 295
    },
    "id": "zI4APeSDXCwv",
    "outputId": "ec0bf0b9-2f6a-4e56-fa58-958fa8b9c63a"
   },
   "outputs": [
    {
     "data": {
      "image/png": "[encoded data removed]",
      "text/plain": [
       "<Figure size 432x288 with 1 Axes>"
      ]
     },
     "metadata": {
      "needs_background": "light"
     },
     "output_type": "display_data"
    }
   ],
   "source": [
    "#City\n",
    "freq = crime_2[\"City\"].value_counts()\n",
    "freq[freq>1000].plot(kind=\"barh\", color=\"red\")\n",
    "plt.xlabel(\"Number of Crimes\")\n",
    "plt.ylabel(\"Cities\")\n",
    "plt.title(\"Cities with the Highest Crime Frequencies\")\n",
    "plt.show()"
   ]
  },
  {
   "cell_type": "code",
   "execution_count": 72,
   "metadata": {
    "id": "LkFemfy06BN-"
   },
   "outputs": [],
   "source": [
    "#Converting into datetime\n",
    "crime_2.Start_Date_Time = pd.to_datetime(crime_2.Start_Date_Time)"
   ]
  },
  {
   "cell_type": "code",
   "execution_count": 73,
   "metadata": {
    "id": "OktkDcrChZRJ"
   },
   "outputs": [],
   "source": [
    "#Data Wrangling\n",
    "crime_2[\"Year\"] = crime_2[\"Start_Date_Time\"].dt.year\n",
    "crime_2[\"Type of Crime\"] = crime_2[\"Crime Name1\"]"
   ]
  },
  {
   "cell_type": "code",
   "execution_count": 74,
   "metadata": {
    "colab": {
     "base_uri": "https://localhost:8080/",
     "height": 399
    },
    "id": "L8nMS2HJhqYt",
    "outputId": "ba075d96-418d-4d01-db19-eb8ee9f48dca"
   },
   "outputs": [
    {
     "data": {
      "image/png": "[encoded data removed]",
      "text/plain": [
       "<Figure size 872x360 with 1 Axes>"
      ]
     },
     "metadata": {
      "needs_background": "light"
     },
     "output_type": "display_data"
    }
   ],
   "source": [
    "#Year and Type of Crime\n",
    "sns.set_palette(sns.color_palette(\"husl\"))\n",
    "sns.catplot(x=\"Year\", data=crime_2, aspect=2, kind='count', hue='Type of Crime', order=range(2016, 2021))\n",
    "plt.ylabel(\"Number of Crimes\")\n",
    "plt.title(\"Frequencies of Different Types of Crime over the Years\")\n",
    "plt.show()"
   ]
  },
  {
   "cell_type": "markdown",
   "metadata": {
    "id": "t0n8x79ZlixV"
   },
   "source": [
    "# <center> Quantitative Study </center>"
   ]
  },
  {
   "cell_type": "code",
   "execution_count": 75,
   "metadata": {
    "id": "yoZIMHOzo-dm"
   },
   "outputs": [],
   "source": [
    "#Creating hour variable\n",
    "crime_2[\"Hour\"] = crime_2[\"Start_Date_Time\"].dt.hour"
   ]
  },
  {
   "cell_type": "code",
   "execution_count": 76,
   "metadata": {
    "colab": {
     "base_uri": "https://localhost:8080/"
    },
    "id": "0FULtv8ElnMv",
    "outputId": "b296b5f5-ab15-4ded-f9de-ec734c1fbde0"
   },
   "outputs": [
    {
     "data": {
      "text/plain": [
       "(22569, 33)"
      ]
     },
     "execution_count": 76,
     "metadata": {},
     "output_type": "execute_result"
    }
   ],
   "source": [
    "#Choosing a Sample\n",
    "np.random.seed(18012000)\n",
    "samp = crime_2.iloc[np.random.randint(low=0, high=225690, size=22569)]\n",
    "samp.shape"
   ]
  },
  {
   "cell_type": "code",
   "execution_count": 77,
   "metadata": {
    "id": "Eg9eGXqKopwK"
   },
   "outputs": [],
   "source": [
    "#Bootstrapping\n",
    "from sklearn.utils import resample\n",
    "samps_medians = []\n",
    "for i in range(1000):\n",
    "  samps_medians.append(resample(samp)[\"Hour\"].median())"
   ]
  },
  {
   "cell_type": "code",
   "execution_count": 78,
   "metadata": {
    "colab": {
     "base_uri": "https://localhost:8080/"
    },
    "id": "wUq8gl1ssPdT",
    "outputId": "c6aa04da-0f86-487c-f961-7476a5cbdfdb"
   },
   "outputs": [
    {
     "data": {
      "text/plain": [
       "array([14., 15.])"
      ]
     },
     "execution_count": 78,
     "metadata": {},
     "output_type": "execute_result"
    }
   ],
   "source": [
    "#95% confidence interval for the median\n",
    "ci = np.percentile(samps_medians, [2.5, 97.5])\n",
    "ci"
   ]
  },
  {
   "cell_type": "code",
   "execution_count": 79,
   "metadata": {
    "colab": {
     "base_uri": "https://localhost:8080/",
     "height": 295
    },
    "id": "jMIfxCtYFoZZ",
    "outputId": "95c00034-5851-43db-ed8c-a9d3b729485b"
   },
   "outputs": [
    {
     "data": {
      "image/png": "[encoded data removed]",
      "text/plain": [
       "<Figure size 432x288 with 1 Axes>"
      ]
     },
     "metadata": {
      "needs_background": "light"
     },
     "output_type": "display_data"
    }
   ],
   "source": [
    "#Histogram\n",
    "plt.hist(crime_2.Hour, bins=20, color=\"green\")\n",
    "plt.xlabel(\"Hours of the Day\")\n",
    "plt.ylabel(\"Number of Crimes\")\n",
    "plt.title(\"Distribution of Crimes Throughout the Day\")\n",
    "plt.xticks(ticks=[0, 3, 6, 9, 12, 15, 18, 21], labels=[\"\", \"3 am\", \"6 am\", \"9 am\", \"12 pm\", \"3 pm\", \"6 pm\", \"9 pm\"])\n",
    "plt.axvline(14, color=\"yellow\")\n",
    "plt.axvline(15, color=\"yellow\")\n",
    "plt.show()"
   ]
  },
  {
   "cell_type": "code",
   "execution_count": 80,
   "metadata": {
    "colab": {
     "base_uri": "https://localhost:8080/",
     "height": 281
    },
    "id": "Fliq6ZVyZB0C",
    "outputId": "40bca83b-8321-413c-fe22-6995b2aa20b3"
   },
   "outputs": [
    {
     "data": {
      "image/png": "[encoded data removed]",
      "text/plain": [
       "<Figure size 432x288 with 1 Axes>"
      ]
     },
     "metadata": {
      "needs_background": "light"
     },
     "output_type": "display_data"
    }
   ],
   "source": [
    "#Box Plot\n",
    "plt.boxplot(crime_2.Hour, widths=0.3)\n",
    "plt.ylabel(\"Hours\")\n",
    "plt.title(\"Box and Whisker Plot for Hour\")\n",
    "plt.axhline(14, color=\"yellow\")\n",
    "plt.axhline(15, color=\"yellow\")\n",
    "plt.show()"
   ]
  },
  {
   "cell_type": "code",
   "execution_count": 81,
   "metadata": {
    "colab": {
     "base_uri": "https://localhost:8080/"
    },
    "id": "1PGjiCbftw2q",
    "outputId": "78293783-d1f7-4e78-9bb9-d0b3b3e45a7f"
   },
   "outputs": [
    {
     "data": {
      "text/plain": [
       "15.0"
      ]
     },
     "execution_count": 81,
     "metadata": {},
     "output_type": "execute_result"
    }
   ],
   "source": [
    "#Point estimator\n",
    "import statistics\n",
    "pe = statistics.median(samps_medians)\n",
    "pe"
   ]
  },
  {
   "cell_type": "code",
   "execution_count": 82,
   "metadata": {
    "colab": {
     "base_uri": "https://localhost:8080/"
    },
    "id": "qsDLcKFOuqu3",
    "outputId": "0f80e9ba-0bf2-4d12-d0e1-ad2f4f45773c"
   },
   "outputs": [
    {
     "name": "stdout",
     "output_type": "stream",
     "text": [
      "14.887307601438652\n",
      "15.112692398561348\n"
     ]
    }
   ],
   "source": [
    "#Parametric inference\n",
    "sd = np.array(crime_2[\"Hour\"]).std()\n",
    "l_bound = pe-1.96*((3.14*sd**2)/(2*22569))**0.5\n",
    "u_bound = pe+1.96*((3.14*sd**2)/(2*22569))**0.5\n",
    "print(l_bound)\n",
    "print(u_bound)"
   ]
  },
  {
   "cell_type": "markdown",
   "metadata": {
    "id": "Aicj_wtnXClU"
   },
   "source": [
    "# <center> Data Wrangling and EDA </center>\n",
    "## Police Districts"
   ]
  },
  {
   "cell_type": "code",
   "execution_count": 83,
   "metadata": {
    "id": "fnkDYGTtPgQD"
   },
   "outputs": [],
   "source": [
    "df_c2 = crime.copy()"
   ]
  },
  {
   "cell_type": "code",
   "execution_count": 84,
   "metadata": {
    "id": "KYFUZttx5JqI"
   },
   "outputs": [],
   "source": [
    "# MBUI: Adjust the column name format\n",
    "df_c2.columns = df_c2.columns.str.replace(' ', '_')"
   ]
  },
  {
   "cell_type": "code",
   "execution_count": 85,
   "metadata": {
    "id": "787WnCDT5JqO"
   },
   "outputs": [],
   "source": [
    "# Remove the columns that are not needed\n",
    "df_c2 = df_c2[['Incident_ID', 'Offence_Code', 'CR_Number', 'Victims', \n",
    "             'Crime_Name1', 'Crime_Name2', 'Crime_Name3', 'Start_Date_Time', \n",
    "             'Police_District_Number', 'Longitude', 'Latitude']]"
   ]
  },
  {
   "cell_type": "code",
   "execution_count": 86,
   "metadata": {
    "colab": {
     "base_uri": "https://localhost:8080/"
    },
    "id": "BsChK-yV5JqU",
    "outputId": "d07f4208-4780-473e-e1b6-fb0fe145d741"
   },
   "outputs": [
    {
     "data": {
      "text/plain": [
       "(225690, 11)"
      ]
     },
     "execution_count": 86,
     "metadata": {},
     "output_type": "execute_result"
    }
   ],
   "source": [
    "df_c2.shape"
   ]
  },
  {
   "cell_type": "code",
   "execution_count": 87,
   "metadata": {
    "colab": {
     "base_uri": "https://localhost:8080/"
    },
    "id": "Jx3ESrYp5Jqd",
    "outputId": "1243104d-53e0-489f-bb83-2457cc950364"
   },
   "outputs": [
    {
     "data": {
      "text/plain": [
       "0"
      ]
     },
     "execution_count": 87,
     "metadata": {},
     "output_type": "execute_result"
    }
   ],
   "source": [
    "# MBUI: Count missing values in Police District Number\n",
    "df_c2.Police_District_Number.isnull().sum()"
   ]
  },
  {
   "cell_type": "code",
   "execution_count": 88,
   "metadata": {
    "colab": {
     "base_uri": "https://localhost:8080/"
    },
    "id": "ndXvpAnT5Jql",
    "outputId": "8747930f-944d-43be-f946-c1b5e7152965"
   },
   "outputs": [
    {
     "data": {
      "text/plain": [
       "141"
      ]
     },
     "execution_count": 88,
     "metadata": {},
     "output_type": "execute_result"
    }
   ],
   "source": [
    "# MBUI: Count missing values in Crime_Name1\n",
    "df_c2.Crime_Name1.isnull().sum()"
   ]
  },
  {
   "cell_type": "code",
   "execution_count": 89,
   "metadata": {
    "colab": {
     "base_uri": "https://localhost:8080/"
    },
    "id": "VGG7PRlK5Jqr",
    "outputId": "f6c8b980-2550-427a-b5ca-38142507124c"
   },
   "outputs": [
    {
     "data": {
      "text/plain": [
       "(225549, 11)"
      ]
     },
     "execution_count": 89,
     "metadata": {},
     "output_type": "execute_result"
    }
   ],
   "source": [
    "# MBUI: Remove missing values of Crime_Name1\n",
    "df_c2 = df_c2[df_c2.Crime_Name1.notnull()]\n",
    "df_c2.shape"
   ]
  },
  {
   "cell_type": "code",
   "execution_count": 90,
   "metadata": {
    "colab": {
     "base_uri": "https://localhost:8080/"
    },
    "id": "d2J4CeYB5Jqx",
    "outputId": "b64e1081-7b58-4af1-a8b8-5bdf55136ba8",
    "scrolled": true
   },
   "outputs": [
    {
     "data": {
      "text/plain": [
       "3D       48082\n",
       "4D       43642\n",
       "6D       38239\n",
       "1D       30954\n",
       "2D       30394\n",
       "5D       28639\n",
       "8D        5540\n",
       "OTHER       46\n",
       "TPPD        13\n",
       "Name: Police_District_Number, dtype: int64"
      ]
     },
     "execution_count": 90,
     "metadata": {},
     "output_type": "execute_result"
    }
   ],
   "source": [
    "# MBUI: Count the number of incidents in police stations\n",
    "df_c2.Police_District_Number.value_counts()"
   ]
  },
  {
   "cell_type": "code",
   "execution_count": 91,
   "metadata": {
    "colab": {
     "base_uri": "https://localhost:8080/"
    },
    "id": "pUWAXmNY5Jq3",
    "outputId": "281e450a-beff-4216-b022-c671b1c3fa26"
   },
   "outputs": [
    {
     "data": {
      "text/plain": [
       "3D       48082\n",
       "4D       43642\n",
       "6D       38239\n",
       "1D       30954\n",
       "2D       30394\n",
       "5D       28639\n",
       "OTHER     5599\n",
       "Name: Police_District_Number, dtype: int64"
      ]
     },
     "execution_count": 91,
     "metadata": {},
     "output_type": "execute_result"
    }
   ],
   "source": [
    "# MBUI: There are only 6 police districts in Montgomery County, I will change 8D and TPPD to OTHER as one group. \n",
    "mask = df_c2.Police_District_Number.isin(['8D', 'TPPD'])\n",
    "\n",
    "df_c2.loc[mask, 'Police_District_Number'] = df_c2.loc[mask, 'Police_District_Number'].replace([\"8D\", \"TPPD\"], \"OTHER\")\n",
    "\n",
    "df_c2.Police_District_Number.value_counts()"
   ]
  },
  {
   "cell_type": "code",
   "execution_count": 92,
   "metadata": {
    "id": "IlLnCZ745Jq_"
   },
   "outputs": [],
   "source": [
    "# MBUI: Converting into datetime\n",
    "df_c2.Start_Date_Time = pd.to_datetime(df_c2.Start_Date_Time)"
   ]
  },
  {
   "cell_type": "code",
   "execution_count": 93,
   "metadata": {
    "id": "FNr3sypH5JrE"
   },
   "outputs": [],
   "source": [
    "# MBUI: Add Column \"Year\"\n",
    "df_c2['Year'] = df_c2['Start_Date_Time'].dt.year"
   ]
  },
  {
   "cell_type": "code",
   "execution_count": 94,
   "metadata": {
    "colab": {
     "base_uri": "https://localhost:8080/",
     "height": 458
    },
    "id": "BKOmmx6e5JrM",
    "outputId": "2cc5be69-f730-43c9-e4f3-2007d76a2460"
   },
   "outputs": [
    {
     "data": {
      "text/plain": [
       "<seaborn.axisgrid.FacetGrid at 0x2b506de08c8>"
      ]
     },
     "execution_count": 94,
     "metadata": {},
     "output_type": "execute_result"
    },
    {
     "data": {
      "image/png": "[encoded data removed]",
      "text/plain": [
       "<Figure size 864x432 with 7 Axes>"
      ]
     },
     "metadata": {
      "needs_background": "light"
     },
     "output_type": "display_data"
    }
   ],
   "source": [
    "# MBUI: Distribution of crimes by Police District over time\n",
    "sns.set_palette(sns.color_palette(\"bright\"))\n",
    "fig5 = sns.catplot(x=\"Year\", col=\"Police_District_Number\", \n",
    "                   col_wrap=4,\n",
    "                   data=df_c2,\n",
    "                   col_order = ['1D','2D','3D','4D','5D','6D','OTHER'],\n",
    "                   kind=\"count\", \n",
    "                   height=3, \n",
    "                   aspect=1)\n",
    "fig5.set_axis_labels(\"\", \"Number of Crimes\")"
   ]
  },
  {
   "cell_type": "code",
   "execution_count": 95,
   "metadata": {
    "colab": {
     "base_uri": "https://localhost:8080/"
    },
    "id": "rWNQ1cb65JrS",
    "outputId": "7a62a2d2-a2fa-454f-8746-473e619ef76f"
   },
   "outputs": [
    {
     "data": {
      "text/plain": [
       "Crime Against Property    98217\n",
       "Crime Against Society     58535\n",
       "Other                     45164\n",
       "Crime Against Person      20916\n",
       "Not a Crime                2717\n",
       "Name: Crime_Name1, dtype: int64"
      ]
     },
     "execution_count": 95,
     "metadata": {},
     "output_type": "execute_result"
    }
   ],
   "source": [
    "# MBUI: Show the number of incidents of each crime types\n",
    "df_c2.Crime_Name1.value_counts()"
   ]
  },
  {
   "cell_type": "code",
   "execution_count": 96,
   "metadata": {
    "colab": {
     "base_uri": "https://localhost:8080/",
     "height": 399
    },
    "id": "81a01cgS5JrX",
    "outputId": "ccbd3879-9d63-45d4-a955-263f8844ee8f"
   },
   "outputs": [
    {
     "data": {
      "image/png": "[encoded data removed]",
      "text/plain": [
       "<Figure size 872x360 with 1 Axes>"
      ]
     },
     "metadata": {
      "needs_background": "light"
     },
     "output_type": "display_data"
    }
   ],
   "source": [
    "# MBUI: Show number of crimes by crimes types and police disctricts\n",
    "sns.catplot(x=\"Police_District_Number\", data=df_c2, aspect=2, kind='count', hue='Crime_Name1', order=['1D','2D','3D','4D','5D','6D','OTHER'])\n",
    "plt.xlabel(\"Police Districts\")\n",
    "plt.ylabel(\"Number of Crimes\")\n",
    "plt.title(\"Distributions of Crime Types by Police Districts\")\n",
    "plt.show()"
   ]
  },
  {
   "cell_type": "markdown",
   "metadata": {
    "id": "ihm_aqh-XLik"
   },
   "source": [
    "# <center> Bootstrapping </center>"
   ]
  },
  {
   "cell_type": "code",
   "execution_count": 97,
   "metadata": {
    "id": "-Sh7fWM45Jrb"
   },
   "outputs": [],
   "source": [
    "# MBUI: Load Police Stations dataset that shows the coordinates of police districts\n",
    "station = pd.read_csv('Police_Stations.csv')"
   ]
  },
  {
   "cell_type": "code",
   "execution_count": 98,
   "metadata": {
    "colab": {
     "base_uri": "https://localhost:8080/",
     "height": 377
    },
    "id": "XR35ekC05Jre",
    "outputId": "1ec85fd3-0589-4fcf-fb7f-8be558a20fdc"
   },
   "outputs": [
    {
     "data": {
      "text/html": [
       "<div>\n",
       "<style scoped>\n",
       "    .dataframe tbody tr th:only-of-type {\n",
       "        vertical-align: middle;\n",
       "    }\n",
       "\n",
       "    .dataframe tbody tr th {\n",
       "        vertical-align: top;\n",
       "    }\n",
       "\n",
       "    .dataframe thead th {\n",
       "        text-align: right;\n",
       "    }\n",
       "</style>\n",
       "<table border=\"1\" class=\"dataframe\">\n",
       "  <thead>\n",
       "    <tr style=\"text-align: right;\">\n",
       "      <th></th>\n",
       "      <th>Incident_ID</th>\n",
       "      <th>Offence_Code</th>\n",
       "      <th>CR_Number</th>\n",
       "      <th>Victims</th>\n",
       "      <th>Crime_Name1</th>\n",
       "      <th>Crime_Name2</th>\n",
       "      <th>Crime_Name3</th>\n",
       "      <th>Start_Date_Time</th>\n",
       "      <th>Police_District_Number</th>\n",
       "      <th>Longitude</th>\n",
       "      <th>Latitude</th>\n",
       "      <th>Year</th>\n",
       "      <th>Latitude_1</th>\n",
       "      <th>Longitude_1</th>\n",
       "    </tr>\n",
       "  </thead>\n",
       "  <tbody>\n",
       "    <tr>\n",
       "      <th>0</th>\n",
       "      <td>201087097</td>\n",
       "      <td>5707</td>\n",
       "      <td>16033232</td>\n",
       "      <td>1</td>\n",
       "      <td>Crime Against Society</td>\n",
       "      <td>Trespass of Real Property</td>\n",
       "      <td>TRESPASSING</td>\n",
       "      <td>2016-07-01 00:04:00</td>\n",
       "      <td>4D</td>\n",
       "      <td>-77.080827</td>\n",
       "      <td>39.078911</td>\n",
       "      <td>2016</td>\n",
       "      <td>39.058373</td>\n",
       "      <td>-77.048394</td>\n",
       "    </tr>\n",
       "    <tr>\n",
       "      <th>1</th>\n",
       "      <td>201210623</td>\n",
       "      <td>2610</td>\n",
       "      <td>180051606</td>\n",
       "      <td>1</td>\n",
       "      <td>Crime Against Property</td>\n",
       "      <td>Identity Theft</td>\n",
       "      <td>IDENTITY THEFT</td>\n",
       "      <td>2018-10-15 13:04:00</td>\n",
       "      <td>4D</td>\n",
       "      <td>-77.086426</td>\n",
       "      <td>39.047285</td>\n",
       "      <td>2018</td>\n",
       "      <td>39.058373</td>\n",
       "      <td>-77.048394</td>\n",
       "    </tr>\n",
       "    <tr>\n",
       "      <th>2</th>\n",
       "      <td>201257007</td>\n",
       "      <td>2303</td>\n",
       "      <td>190044554</td>\n",
       "      <td>1</td>\n",
       "      <td>Crime Against Property</td>\n",
       "      <td>Shoplifting</td>\n",
       "      <td>LARCENY - SHOPLIFTING</td>\n",
       "      <td>2019-09-17 15:30:00</td>\n",
       "      <td>4D</td>\n",
       "      <td>-77.077657</td>\n",
       "      <td>39.083822</td>\n",
       "      <td>2019</td>\n",
       "      <td>39.058373</td>\n",
       "      <td>-77.048394</td>\n",
       "    </tr>\n",
       "    <tr>\n",
       "      <th>3</th>\n",
       "      <td>201087177</td>\n",
       "      <td>9199</td>\n",
       "      <td>16033299</td>\n",
       "      <td>1</td>\n",
       "      <td>Other</td>\n",
       "      <td>All Other Offenses</td>\n",
       "      <td>POLICE INFORMATION</td>\n",
       "      <td>2016-07-01 10:07:00</td>\n",
       "      <td>4D</td>\n",
       "      <td>-77.080827</td>\n",
       "      <td>39.078911</td>\n",
       "      <td>2016</td>\n",
       "      <td>39.058373</td>\n",
       "      <td>-77.048394</td>\n",
       "    </tr>\n",
       "    <tr>\n",
       "      <th>4</th>\n",
       "      <td>201087211</td>\n",
       "      <td>4199</td>\n",
       "      <td>16033382</td>\n",
       "      <td>1</td>\n",
       "      <td>Crime Against Society</td>\n",
       "      <td>Liquor Law Violations</td>\n",
       "      <td>LIQUOR (DESCRIBE OFFENSE)</td>\n",
       "      <td>2016-07-01 19:48:00</td>\n",
       "      <td>4D</td>\n",
       "      <td>-77.079083</td>\n",
       "      <td>39.086244</td>\n",
       "      <td>2016</td>\n",
       "      <td>39.058373</td>\n",
       "      <td>-77.048394</td>\n",
       "    </tr>\n",
       "  </tbody>\n",
       "</table>\n",
       "</div>"
      ],
      "text/plain": [
       "   Incident_ID Offence_Code  CR_Number  Victims             Crime_Name1  \\\n",
       "0    201087097         5707   16033232        1   Crime Against Society   \n",
       "1    201210623         2610  180051606        1  Crime Against Property   \n",
       "2    201257007         2303  190044554        1  Crime Against Property   \n",
       "3    201087177         9199   16033299        1                   Other   \n",
       "4    201087211         4199   16033382        1   Crime Against Society   \n",
       "\n",
       "                 Crime_Name2                Crime_Name3     Start_Date_Time  \\\n",
       "0  Trespass of Real Property                TRESPASSING 2016-07-01 00:04:00   \n",
       "1             Identity Theft             IDENTITY THEFT 2018-10-15 13:04:00   \n",
       "2                Shoplifting      LARCENY - SHOPLIFTING 2019-09-17 15:30:00   \n",
       "3         All Other Offenses         POLICE INFORMATION 2016-07-01 10:07:00   \n",
       "4      Liquor Law Violations  LIQUOR (DESCRIBE OFFENSE) 2016-07-01 19:48:00   \n",
       "\n",
       "  Police_District_Number  Longitude   Latitude  Year  Latitude_1  Longitude_1  \n",
       "0                     4D -77.080827  39.078911  2016   39.058373   -77.048394  \n",
       "1                     4D -77.086426  39.047285  2018   39.058373   -77.048394  \n",
       "2                     4D -77.077657  39.083822  2019   39.058373   -77.048394  \n",
       "3                     4D -77.080827  39.078911  2016   39.058373   -77.048394  \n",
       "4                     4D -77.079083  39.086244  2016   39.058373   -77.048394  "
      ]
     },
     "execution_count": 98,
     "metadata": {},
     "output_type": "execute_result"
    }
   ],
   "source": [
    "# MBUI: Add the coordinates to Crime dataset\n",
    "df_c2 = df_c2.merge(station, on = \"Police_District_Number\")\n",
    "df_c2.head()"
   ]
  },
  {
   "cell_type": "code",
   "execution_count": 99,
   "metadata": {
    "colab": {
     "base_uri": "https://localhost:8080/",
     "height": 214
    },
    "id": "-S_okzS25Jri",
    "outputId": "7ea23508-9cbe-4e24-dc9f-936c58aca288"
   },
   "outputs": [],
   "source": [
    "# MBUI: Calculate the distance between the police station and incident location and add to distance_vincenty list\n",
    "distance_vincenty = []\n",
    "for i in df_c2.index:\n",
    "    distance_vincenty.append(round(vincenty((df_c2['Latitude_1'][i], df_c2['Longitude_1'][i]), \n",
    "                                            (df_c2['Latitude'][i], df_c2['Longitude'][i]), miles=True), 3))"
   ]
  },
  {
   "cell_type": "code",
   "execution_count": 100,
   "metadata": {
    "id": "KhjjU2Aq5Jrm"
   },
   "outputs": [
    {
     "data": {
      "text/html": [
       "<div>\n",
       "<style scoped>\n",
       "    .dataframe tbody tr th:only-of-type {\n",
       "        vertical-align: middle;\n",
       "    }\n",
       "\n",
       "    .dataframe tbody tr th {\n",
       "        vertical-align: top;\n",
       "    }\n",
       "\n",
       "    .dataframe thead th {\n",
       "        text-align: right;\n",
       "    }\n",
       "</style>\n",
       "<table border=\"1\" class=\"dataframe\">\n",
       "  <thead>\n",
       "    <tr style=\"text-align: right;\">\n",
       "      <th></th>\n",
       "      <th>Incident_ID</th>\n",
       "      <th>Offence_Code</th>\n",
       "      <th>CR_Number</th>\n",
       "      <th>Victims</th>\n",
       "      <th>Crime_Name1</th>\n",
       "      <th>Crime_Name2</th>\n",
       "      <th>Crime_Name3</th>\n",
       "      <th>Start_Date_Time</th>\n",
       "      <th>Police_District_Number</th>\n",
       "      <th>Longitude</th>\n",
       "      <th>Latitude</th>\n",
       "      <th>Year</th>\n",
       "      <th>Latitude_1</th>\n",
       "      <th>Longitude_1</th>\n",
       "      <th>Distance</th>\n",
       "    </tr>\n",
       "  </thead>\n",
       "  <tbody>\n",
       "    <tr>\n",
       "      <th>0</th>\n",
       "      <td>201087097</td>\n",
       "      <td>5707</td>\n",
       "      <td>16033232</td>\n",
       "      <td>1</td>\n",
       "      <td>Crime Against Society</td>\n",
       "      <td>Trespass of Real Property</td>\n",
       "      <td>TRESPASSING</td>\n",
       "      <td>2016-07-01 00:04:00</td>\n",
       "      <td>4D</td>\n",
       "      <td>-77.080827</td>\n",
       "      <td>39.078911</td>\n",
       "      <td>2016</td>\n",
       "      <td>39.058373</td>\n",
       "      <td>-77.048394</td>\n",
       "      <td>2.247</td>\n",
       "    </tr>\n",
       "    <tr>\n",
       "      <th>1</th>\n",
       "      <td>201210623</td>\n",
       "      <td>2610</td>\n",
       "      <td>180051606</td>\n",
       "      <td>1</td>\n",
       "      <td>Crime Against Property</td>\n",
       "      <td>Identity Theft</td>\n",
       "      <td>IDENTITY THEFT</td>\n",
       "      <td>2018-10-15 13:04:00</td>\n",
       "      <td>4D</td>\n",
       "      <td>-77.086426</td>\n",
       "      <td>39.047285</td>\n",
       "      <td>2018</td>\n",
       "      <td>39.058373</td>\n",
       "      <td>-77.048394</td>\n",
       "      <td>2.184</td>\n",
       "    </tr>\n",
       "    <tr>\n",
       "      <th>2</th>\n",
       "      <td>201257007</td>\n",
       "      <td>2303</td>\n",
       "      <td>190044554</td>\n",
       "      <td>1</td>\n",
       "      <td>Crime Against Property</td>\n",
       "      <td>Shoplifting</td>\n",
       "      <td>LARCENY - SHOPLIFTING</td>\n",
       "      <td>2019-09-17 15:30:00</td>\n",
       "      <td>4D</td>\n",
       "      <td>-77.077657</td>\n",
       "      <td>39.083822</td>\n",
       "      <td>2019</td>\n",
       "      <td>39.058373</td>\n",
       "      <td>-77.048394</td>\n",
       "      <td>2.358</td>\n",
       "    </tr>\n",
       "    <tr>\n",
       "      <th>3</th>\n",
       "      <td>201087177</td>\n",
       "      <td>9199</td>\n",
       "      <td>16033299</td>\n",
       "      <td>1</td>\n",
       "      <td>Other</td>\n",
       "      <td>All Other Offenses</td>\n",
       "      <td>POLICE INFORMATION</td>\n",
       "      <td>2016-07-01 10:07:00</td>\n",
       "      <td>4D</td>\n",
       "      <td>-77.080827</td>\n",
       "      <td>39.078911</td>\n",
       "      <td>2016</td>\n",
       "      <td>39.058373</td>\n",
       "      <td>-77.048394</td>\n",
       "      <td>2.247</td>\n",
       "    </tr>\n",
       "    <tr>\n",
       "      <th>4</th>\n",
       "      <td>201087211</td>\n",
       "      <td>4199</td>\n",
       "      <td>16033382</td>\n",
       "      <td>1</td>\n",
       "      <td>Crime Against Society</td>\n",
       "      <td>Liquor Law Violations</td>\n",
       "      <td>LIQUOR (DESCRIBE OFFENSE)</td>\n",
       "      <td>2016-07-01 19:48:00</td>\n",
       "      <td>4D</td>\n",
       "      <td>-77.079083</td>\n",
       "      <td>39.086244</td>\n",
       "      <td>2016</td>\n",
       "      <td>39.058373</td>\n",
       "      <td>-77.048394</td>\n",
       "      <td>2.534</td>\n",
       "    </tr>\n",
       "  </tbody>\n",
       "</table>\n",
       "</div>"
      ],
      "text/plain": [
       "   Incident_ID Offence_Code  CR_Number  Victims             Crime_Name1  \\\n",
       "0    201087097         5707   16033232        1   Crime Against Society   \n",
       "1    201210623         2610  180051606        1  Crime Against Property   \n",
       "2    201257007         2303  190044554        1  Crime Against Property   \n",
       "3    201087177         9199   16033299        1                   Other   \n",
       "4    201087211         4199   16033382        1   Crime Against Society   \n",
       "\n",
       "                 Crime_Name2                Crime_Name3     Start_Date_Time  \\\n",
       "0  Trespass of Real Property                TRESPASSING 2016-07-01 00:04:00   \n",
       "1             Identity Theft             IDENTITY THEFT 2018-10-15 13:04:00   \n",
       "2                Shoplifting      LARCENY - SHOPLIFTING 2019-09-17 15:30:00   \n",
       "3         All Other Offenses         POLICE INFORMATION 2016-07-01 10:07:00   \n",
       "4      Liquor Law Violations  LIQUOR (DESCRIBE OFFENSE) 2016-07-01 19:48:00   \n",
       "\n",
       "  Police_District_Number  Longitude   Latitude  Year  Latitude_1  Longitude_1  \\\n",
       "0                     4D -77.080827  39.078911  2016   39.058373   -77.048394   \n",
       "1                     4D -77.086426  39.047285  2018   39.058373   -77.048394   \n",
       "2                     4D -77.077657  39.083822  2019   39.058373   -77.048394   \n",
       "3                     4D -77.080827  39.078911  2016   39.058373   -77.048394   \n",
       "4                     4D -77.079083  39.086244  2016   39.058373   -77.048394   \n",
       "\n",
       "   Distance  \n",
       "0     2.247  \n",
       "1     2.184  \n",
       "2     2.358  \n",
       "3     2.247  \n",
       "4     2.534  "
      ]
     },
     "execution_count": 100,
     "metadata": {},
     "output_type": "execute_result"
    }
   ],
   "source": [
    "# MBUI: Add the Distance column to Crime dataset\n",
    "df_c2['Distance'] = distance_vincenty\n",
    "df_c2.head()"
   ]
  },
  {
   "cell_type": "code",
   "execution_count": 101,
   "metadata": {
    "id": "On-OXiKE5Jrr"
   },
   "outputs": [
    {
     "data": {
      "text/plain": [
       "count    219950.000000\n",
       "mean         17.462724\n",
       "std         283.497284\n",
       "min           0.018000\n",
       "25%           1.460000\n",
       "50%           2.595000\n",
       "75%           3.946000\n",
       "max        5539.535000\n",
       "Name: Distance, dtype: float64"
      ]
     },
     "execution_count": 101,
     "metadata": {},
     "output_type": "execute_result"
    }
   ],
   "source": [
    "# MBUI: Five number summary of Distance\n",
    "df_c2.Distance.describe()"
   ]
  },
  {
   "cell_type": "code",
   "execution_count": 102,
   "metadata": {
    "id": "XYMntWzt5Jru"
   },
   "outputs": [],
   "source": [
    "# MBUI: Create function to calculate median\n",
    "def median(list):\n",
    "    list.sort()\n",
    "    l = len(list)\n",
    "    \n",
    "    mid = (l-1)//2\n",
    "    \n",
    "    if (l%2 == 0):\n",
    "        return (list[mid] + list[mid+1])/2\n",
    "    else:\n",
    "        return list[mid]"
   ]
  },
  {
   "cell_type": "code",
   "execution_count": 103,
   "metadata": {
    "id": "fBJ2AkNP5Jry"
   },
   "outputs": [
    {
     "data": {
      "text/plain": [
       "2.592"
      ]
     },
     "execution_count": 103,
     "metadata": {},
     "output_type": "execute_result"
    }
   ],
   "source": [
    "# MBUI: Generate random samples from Distance variable and find the median of each sample\n",
    "original_sample = np.random.choice(df_c2.Distance, 22555, replace = False)\n",
    "median_boot_samples = []\n",
    "for i in range(1000):\n",
    "                boot_sample = np.random.choice(original_sample, 22555)\n",
    "                median_boot_samples.append(median(boot_sample))\n",
    "median(list(median_boot_samples))"
   ]
  },
  {
   "cell_type": "code",
   "execution_count": 104,
   "metadata": {
    "id": "Y96tZiKu5Jr5"
   },
   "outputs": [
    {
     "data": {
      "text/plain": [
       "2.592"
      ]
     },
     "execution_count": 104,
     "metadata": {},
     "output_type": "execute_result"
    }
   ],
   "source": [
    "# MBUI: Resample Distance variable and find the median\n",
    "from sklearn.utils import resample\n",
    "median_boot_samples_1 = []\n",
    "for i in range(1000):\n",
    "                boot_sample_1 = resample(original_sample) \n",
    "                median_boot_samples_1.append(median(list(boot_sample_1)))\n",
    "median(list(median_boot_samples_1))"
   ]
  },
  {
   "cell_type": "code",
   "execution_count": 105,
   "metadata": {},
   "outputs": [
    {
     "data": {
      "text/plain": [
       "array([2.55    , 2.626025])"
      ]
     },
     "execution_count": 105,
     "metadata": {},
     "output_type": "execute_result"
    }
   ],
   "source": [
    "conf_int = np.percentile(median_boot_samples, [2.5, 97.5])\n",
    "conf_int"
   ]
  },
  {
   "cell_type": "markdown",
   "metadata": {},
   "source": [
    "# <center> Conclusions </center>"
   ]
  },
  {
   "cell_type": "markdown",
   "metadata": {},
   "source": [
    "There is a clear reduction in crimes when the stay-at-home order was in place in the county.\n",
    "It is also interesting to analyze more in detail the result of our Median for the distance of each crime reported to the nearest police station. This median ($=2.595\\ miles$) is not so powerful if analyzed alone. One could argue that 2.6 miles is not a long distance, leading to the conclusion that the position of the police stations is relatively efficient since police are half of the time closer than 2.6 miles to the incident. However, it would be more useful to know data about how long it takes for police to arrive at each scene and compare those data to our dataset. It would also be useful to know national data to compare the realtive efficiency of Montgomery County Police Department to other police departments in the nation."
   ]
  }
 ],
 "metadata": {
  "colab": {
   "collapsed_sections": [],
   "name": "project_1.ipynb",
   "provenance": []
  },
  "kernelspec": {
   "display_name": "Python 3",
   "language": "python",
   "name": "python3"
  },
  "language_info": {
   "codemirror_mode": {
    "name": "ipython",
    "version": 3
   },
   "file_extension": ".py",
   "mimetype": "text/x-python",
   "name": "python",
   "nbconvert_exporter": "python",
   "pygments_lexer": "ipython3",
   "version": "3.7.6"
  }
 },
 "nbformat": 4,
 "nbformat_minor": 1
}
